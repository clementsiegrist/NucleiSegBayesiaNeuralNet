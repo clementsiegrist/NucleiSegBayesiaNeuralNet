{
  "nbformat": 4,
  "nbformat_minor": 0,
  "metadata": {
    "colab": {
      "name": "Untitled5.ipynb",
      "provenance": [],
      "toc_visible": true,
      "include_colab_link": true
    },
    "kernelspec": {
      "name": "python3",
      "display_name": "Python 3"
    },
    "accelerator": "GPU"
  },
  "cells": [
    {
      "cell_type": "markdown",
      "metadata": {
        "id": "view-in-github",
        "colab_type": "text"
      },
      "source": [
        "<a href=\"https://colab.research.google.com/github/clementsiegrist/segmentation_probabilisticDL/blob/main/bayesiannet_segmentation.ipynb\" target=\"_parent\"><img src=\"https://colab.research.google.com/assets/colab-badge.svg\" alt=\"Open In Colab\"/></a>"
      ]
    },
    {
      "cell_type": "code",
      "metadata": {
        "id": "MFjCG5BmbGfz"
      },
      "source": [
        "%%capture\n",
        "!wget https://raw.githubusercontent.com/clementsiegrist/segmentation_probabilisticDL/main/requirements.txt \n",
        "!pip3 install -r requirements.txt\n",
        "!pip3 install --upgrade --force-reinstall --no-deps kaggle"
      ],
      "execution_count": 1,
      "outputs": []
    },
    {
      "cell_type": "code",
      "metadata": {
        "id": "SojKxjWrWQC-"
      },
      "source": [
        "%%capture\n",
        "!git clone https://github.com/clementsiegrist/deep_seg.git\n",
        "!git clone https://github.com/clementsiegrist/segmentation_probabilisticDL.git\n",
        "!cp -r /content/segmentation_probabilisticDL/train.zip /content/deep_seg\n",
        "!cp -r /content/segmentation_probabilisticDL/test.zip /content/deep_seg\n",
        "!cp -r /content/segmentation_probabilisticDL/validation /content/deep_seg\n",
        "!cd /content/deep_seg && unzip test.zip\n",
        "!cd /content/deep_seg && unzip train.zip\n",
        "!mkdir /content/weights\n",
        "!rm -rf /content/segmentation_probabilisticDL /content/deep_seg/test.zip /content/deep_seg/train.zip /content/deep_seg/__MACOSX"
      ],
      "execution_count": 2,
      "outputs": []
    },
    {
      "cell_type": "code",
      "metadata": {
        "id": "4TGhlx6lXu8l"
      },
      "source": [
        "train_path = \"/content/deep_seg/train\"\n",
        "validation_path = \"/content/deep_seg/validation\"\n",
        "test_path = \"/content/deep_seg/test\"\n",
        "test_batch_size = 4\n",
        "checkpoint_path = '/content/weights'\n",
        "input_size = (256, 256) \n",
        "target_size = (256, 256) # (height, width) of input_size should be divisible by 32\n",
        "num_class = 2\n",
        "# fine tuning\n",
        "train_batch_size = 4\n",
        "test_batch_size = 4\n",
        "validation_batch_size = 4\n",
        "learning_rate = 1e-4\n",
        "nb_epochs = 10"
      ],
      "execution_count": 3,
      "outputs": []
    },
    {
      "cell_type": "code",
      "metadata": {
        "id": "JGBwQCPx6fkx"
      },
      "source": [
        "from PIL import Image\n",
        "import cv2 as cv\n",
        "import os\n",
        "import numpy as np"
      ],
      "execution_count": 4,
      "outputs": []
    },
    {
      "cell_type": "code",
      "metadata": {
        "id": "wnf6lBQpY4Xl",
        "outputId": "64a59d26-42ca-44b7-b309-19c5c00a2c12",
        "colab": {
          "base_uri": "https://localhost:8080/"
        }
      },
      "source": [
        "%cd /content/deep_seg/\n",
        "from unet_pipeline.main import main\n",
        "from unet_pipeline.generator import load_pretrained, train_val_gen,predict_on_test_and_plot\n",
        "import tensorflow.keras as keras"
      ],
      "execution_count": 5,
      "outputs": [
        {
          "output_type": "stream",
          "text": [
            "/content/deep_seg\n"
          ],
          "name": "stdout"
        },
        {
          "output_type": "stream",
          "text": [
            "Using TensorFlow backend.\n"
          ],
          "name": "stderr"
        }
      ]
    },
    {
      "cell_type": "code",
      "metadata": {
        "id": "GpzrgLzw6Nfa",
        "outputId": "b6a66aef-92d4-49bb-b055-1a542d1e2153",
        "colab": {
          "base_uri": "https://localhost:8080/",
          "height": 1000
        }
      },
      "source": [
        "model_name = 'cell_seg.hdf5'\n",
        "model = main(train_path, train_batch_size, validation_path, validation_batch_size, nb_epochs)\n",
        "predict_on_test_and_plot(test_path, model_name=model_name, num=98)"
      ],
      "execution_count": 6,
      "outputs": [
        {
          "output_type": "stream",
          "text": [
            "Found 502 images belonging to 1 classes.\n",
            "Found 502 images belonging to 1 classes.\n",
            "Found 68 images belonging to 1 classes.\n",
            "Found 68 images belonging to 1 classes.\n",
            "Model: \"functional_1\"\n",
            "__________________________________________________________________________________________________\n",
            "Layer (type)                    Output Shape         Param #     Connected to                     \n",
            "==================================================================================================\n",
            "input_1 (InputLayer)            [(None, 256, 256, 3) 0                                            \n",
            "__________________________________________________________________________________________________\n",
            "conv2d (Conv2D)                 (None, 256, 256, 16) 448         input_1[0][0]                    \n",
            "__________________________________________________________________________________________________\n",
            "activation (Activation)         (None, 256, 256, 16) 0           conv2d[0][0]                     \n",
            "__________________________________________________________________________________________________\n",
            "conv2d_1 (Conv2D)               (None, 256, 256, 16) 2320        activation[0][0]                 \n",
            "__________________________________________________________________________________________________\n",
            "activation_1 (Activation)       (None, 256, 256, 16) 0           conv2d_1[0][0]                   \n",
            "__________________________________________________________________________________________________\n",
            "max_pooling2d (MaxPooling2D)    (None, 128, 128, 16) 0           activation_1[0][0]               \n",
            "__________________________________________________________________________________________________\n",
            "conv2d_2 (Conv2D)               (None, 128, 128, 32) 4640        max_pooling2d[0][0]              \n",
            "__________________________________________________________________________________________________\n",
            "activation_2 (Activation)       (None, 128, 128, 32) 0           conv2d_2[0][0]                   \n",
            "__________________________________________________________________________________________________\n",
            "conv2d_3 (Conv2D)               (None, 128, 128, 32) 9248        activation_2[0][0]               \n",
            "__________________________________________________________________________________________________\n",
            "activation_3 (Activation)       (None, 128, 128, 32) 0           conv2d_3[0][0]                   \n",
            "__________________________________________________________________________________________________\n",
            "max_pooling2d_1 (MaxPooling2D)  (None, 64, 64, 32)   0           activation_3[0][0]               \n",
            "__________________________________________________________________________________________________\n",
            "conv2d_4 (Conv2D)               (None, 64, 64, 64)   18496       max_pooling2d_1[0][0]            \n",
            "__________________________________________________________________________________________________\n",
            "activation_4 (Activation)       (None, 64, 64, 64)   0           conv2d_4[0][0]                   \n",
            "__________________________________________________________________________________________________\n",
            "conv2d_5 (Conv2D)               (None, 64, 64, 64)   36928       activation_4[0][0]               \n",
            "__________________________________________________________________________________________________\n",
            "activation_5 (Activation)       (None, 64, 64, 64)   0           conv2d_5[0][0]                   \n",
            "__________________________________________________________________________________________________\n",
            "max_pooling2d_2 (MaxPooling2D)  (None, 32, 32, 64)   0           activation_5[0][0]               \n",
            "__________________________________________________________________________________________________\n",
            "conv2d_6 (Conv2D)               (None, 32, 32, 128)  73856       max_pooling2d_2[0][0]            \n",
            "__________________________________________________________________________________________________\n",
            "activation_6 (Activation)       (None, 32, 32, 128)  0           conv2d_6[0][0]                   \n",
            "__________________________________________________________________________________________________\n",
            "conv2d_7 (Conv2D)               (None, 32, 32, 128)  147584      activation_6[0][0]               \n",
            "__________________________________________________________________________________________________\n",
            "activation_7 (Activation)       (None, 32, 32, 128)  0           conv2d_7[0][0]                   \n",
            "__________________________________________________________________________________________________\n",
            "max_pooling2d_3 (MaxPooling2D)  (None, 16, 16, 128)  0           activation_7[0][0]               \n",
            "__________________________________________________________________________________________________\n",
            "conv2d_8 (Conv2D)               (None, 16, 16, 256)  295168      max_pooling2d_3[0][0]            \n",
            "__________________________________________________________________________________________________\n",
            "activation_8 (Activation)       (None, 16, 16, 256)  0           conv2d_8[0][0]                   \n",
            "__________________________________________________________________________________________________\n",
            "conv2d_9 (Conv2D)               (None, 16, 16, 256)  590080      activation_8[0][0]               \n",
            "__________________________________________________________________________________________________\n",
            "activation_9 (Activation)       (None, 16, 16, 256)  0           conv2d_9[0][0]                   \n",
            "__________________________________________________________________________________________________\n",
            "dropout (Dropout)               (None, 16, 16, 256)  0           activation_9[0][0]               \n",
            "__________________________________________________________________________________________________\n",
            "up_sampling2d (UpSampling2D)    (None, 32, 32, 256)  0           dropout[0][0]                    \n",
            "__________________________________________________________________________________________________\n",
            "conv2d_10 (Conv2D)              (None, 32, 32, 128)  295040      up_sampling2d[0][0]              \n",
            "__________________________________________________________________________________________________\n",
            "activation_10 (Activation)      (None, 32, 32, 128)  0           conv2d_10[0][0]                  \n",
            "__________________________________________________________________________________________________\n",
            "concatenate (Concatenate)       (None, 32, 32, 256)  0           activation_7[0][0]               \n",
            "                                                                 activation_10[0][0]              \n",
            "__________________________________________________________________________________________________\n",
            "conv2d_11 (Conv2D)              (None, 32, 32, 128)  295040      concatenate[0][0]                \n",
            "__________________________________________________________________________________________________\n",
            "activation_11 (Activation)      (None, 32, 32, 128)  0           conv2d_11[0][0]                  \n",
            "__________________________________________________________________________________________________\n",
            "conv2d_12 (Conv2D)              (None, 32, 32, 128)  147584      activation_11[0][0]              \n",
            "__________________________________________________________________________________________________\n",
            "activation_12 (Activation)      (None, 32, 32, 128)  0           conv2d_12[0][0]                  \n",
            "__________________________________________________________________________________________________\n",
            "up_sampling2d_1 (UpSampling2D)  (None, 64, 64, 128)  0           activation_12[0][0]              \n",
            "__________________________________________________________________________________________________\n",
            "conv2d_13 (Conv2D)              (None, 64, 64, 64)   73792       up_sampling2d_1[0][0]            \n",
            "__________________________________________________________________________________________________\n",
            "activation_13 (Activation)      (None, 64, 64, 64)   0           conv2d_13[0][0]                  \n",
            "__________________________________________________________________________________________________\n",
            "concatenate_1 (Concatenate)     (None, 64, 64, 128)  0           activation_5[0][0]               \n",
            "                                                                 activation_13[0][0]              \n",
            "__________________________________________________________________________________________________\n",
            "conv2d_14 (Conv2D)              (None, 64, 64, 64)   73792       concatenate_1[0][0]              \n",
            "__________________________________________________________________________________________________\n",
            "activation_14 (Activation)      (None, 64, 64, 64)   0           conv2d_14[0][0]                  \n",
            "__________________________________________________________________________________________________\n",
            "conv2d_15 (Conv2D)              (None, 64, 64, 64)   36928       activation_14[0][0]              \n",
            "__________________________________________________________________________________________________\n",
            "activation_15 (Activation)      (None, 64, 64, 64)   0           conv2d_15[0][0]                  \n",
            "__________________________________________________________________________________________________\n",
            "up_sampling2d_2 (UpSampling2D)  (None, 128, 128, 64) 0           activation_15[0][0]              \n",
            "__________________________________________________________________________________________________\n",
            "conv2d_16 (Conv2D)              (None, 128, 128, 32) 18464       up_sampling2d_2[0][0]            \n",
            "__________________________________________________________________________________________________\n",
            "activation_16 (Activation)      (None, 128, 128, 32) 0           conv2d_16[0][0]                  \n",
            "__________________________________________________________________________________________________\n",
            "concatenate_2 (Concatenate)     (None, 128, 128, 64) 0           activation_3[0][0]               \n",
            "                                                                 activation_16[0][0]              \n",
            "__________________________________________________________________________________________________\n",
            "conv2d_17 (Conv2D)              (None, 128, 128, 32) 18464       concatenate_2[0][0]              \n",
            "__________________________________________________________________________________________________\n",
            "activation_17 (Activation)      (None, 128, 128, 32) 0           conv2d_17[0][0]                  \n",
            "__________________________________________________________________________________________________\n",
            "conv2d_18 (Conv2D)              (None, 128, 128, 32) 9248        activation_17[0][0]              \n",
            "__________________________________________________________________________________________________\n",
            "activation_18 (Activation)      (None, 128, 128, 32) 0           conv2d_18[0][0]                  \n",
            "__________________________________________________________________________________________________\n",
            "up_sampling2d_3 (UpSampling2D)  (None, 256, 256, 32) 0           activation_18[0][0]              \n",
            "__________________________________________________________________________________________________\n",
            "conv2d_19 (Conv2D)              (None, 256, 256, 16) 4624        up_sampling2d_3[0][0]            \n",
            "__________________________________________________________________________________________________\n",
            "activation_19 (Activation)      (None, 256, 256, 16) 0           conv2d_19[0][0]                  \n",
            "__________________________________________________________________________________________________\n",
            "concatenate_3 (Concatenate)     (None, 256, 256, 32) 0           activation_1[0][0]               \n",
            "                                                                 activation_19[0][0]              \n",
            "__________________________________________________________________________________________________\n",
            "conv2d_20 (Conv2D)              (None, 256, 256, 16) 4624        concatenate_3[0][0]              \n",
            "__________________________________________________________________________________________________\n",
            "activation_20 (Activation)      (None, 256, 256, 16) 0           conv2d_20[0][0]                  \n",
            "__________________________________________________________________________________________________\n",
            "conv2d_21 (Conv2D)              (None, 256, 256, 16) 2320        activation_20[0][0]              \n",
            "__________________________________________________________________________________________________\n",
            "activation_21 (Activation)      (None, 256, 256, 16) 0           conv2d_21[0][0]                  \n",
            "__________________________________________________________________________________________________\n",
            "conv2d_22 (Conv2D)              (None, 256, 256, 16) 2320        activation_21[0][0]              \n",
            "__________________________________________________________________________________________________\n",
            "activation_22 (Activation)      (None, 256, 256, 16) 0           conv2d_22[0][0]                  \n",
            "__________________________________________________________________________________________________\n",
            "dense (Dense)                   (None, 256, 256, 2)  34          activation_22[0][0]              \n",
            "==================================================================================================\n",
            "Total params: 2,161,042\n",
            "Trainable params: 2,161,042\n",
            "Non-trainable params: 0\n",
            "__________________________________________________________________________________________________\n",
            "WARNING:tensorflow:From /content/deep_seg/unet_pipeline/generator.py:193: Model.fit_generator (from tensorflow.python.keras.engine.training) is deprecated and will be removed in a future version.\n",
            "Instructions for updating:\n",
            "Please use Model.fit, which supports generators.\n",
            "Epoch 1/10\n",
            "125/125 [==============================] - ETA: 0s - loss: 0.3024 - accuracy: 0.9990\n",
            "Epoch 00001: loss improved from inf to 0.30237, saving model to /content/weights/checkpoint/cell_seg.hdf5\n",
            "125/125 [==============================] - 7s 52ms/step - loss: 0.3024 - accuracy: 0.9990 - val_loss: 0.1829 - val_accuracy: 1.0000\n",
            "Epoch 2/10\n",
            "125/125 [==============================] - ETA: 0s - loss: 0.1312 - accuracy: 1.0000\n",
            "Epoch 00002: loss improved from 0.30237 to 0.13119, saving model to /content/weights/checkpoint/cell_seg.hdf5\n",
            "125/125 [==============================] - 6s 51ms/step - loss: 0.1312 - accuracy: 1.0000 - val_loss: 0.1258 - val_accuracy: 1.0000\n",
            "Epoch 3/10\n",
            "124/125 [============================>.] - ETA: 0s - loss: 0.0963 - accuracy: 1.0000\n",
            "Epoch 00003: loss improved from 0.13119 to 0.09688, saving model to /content/weights/checkpoint/cell_seg.hdf5\n",
            "125/125 [==============================] - 6s 51ms/step - loss: 0.0969 - accuracy: 1.0000 - val_loss: 0.1994 - val_accuracy: 1.0000\n",
            "Epoch 4/10\n",
            "125/125 [==============================] - ETA: 0s - loss: 0.0947 - accuracy: 1.0000\n",
            "Epoch 00004: loss improved from 0.09688 to 0.09468, saving model to /content/weights/checkpoint/cell_seg.hdf5\n",
            "125/125 [==============================] - 6s 51ms/step - loss: 0.0947 - accuracy: 1.0000 - val_loss: 0.0889 - val_accuracy: 1.0000\n",
            "Epoch 5/10\n",
            "124/125 [============================>.] - ETA: 0s - loss: 0.0707 - accuracy: 1.0000\n",
            "Epoch 00005: loss improved from 0.09468 to 0.07066, saving model to /content/weights/checkpoint/cell_seg.hdf5\n",
            "125/125 [==============================] - 6s 51ms/step - loss: 0.0707 - accuracy: 1.0000 - val_loss: 0.0625 - val_accuracy: 1.0000\n",
            "Epoch 6/10\n",
            "125/125 [==============================] - ETA: 0s - loss: 0.0557 - accuracy: 1.0000\n",
            "Epoch 00006: loss improved from 0.07066 to 0.05574, saving model to /content/weights/checkpoint/cell_seg.hdf5\n",
            "\n",
            "Epoch 00006: ReduceLROnPlateau reducing learning rate to 7.999999797903001e-05.\n",
            "125/125 [==============================] - 6s 51ms/step - loss: 0.0557 - accuracy: 1.0000 - val_loss: 0.0633 - val_accuracy: 1.0000\n",
            "Epoch 7/10\n",
            "124/125 [============================>.] - ETA: 0s - loss: 0.0538 - accuracy: 1.0000\n",
            "Epoch 00007: loss improved from 0.05574 to 0.05372, saving model to /content/weights/checkpoint/cell_seg.hdf5\n",
            "125/125 [==============================] - 6s 52ms/step - loss: 0.0537 - accuracy: 1.0000 - val_loss: 0.0589 - val_accuracy: 1.0000\n",
            "Epoch 8/10\n",
            "125/125 [==============================] - ETA: 0s - loss: 0.0493 - accuracy: 1.0000\n",
            "Epoch 00008: loss improved from 0.05372 to 0.04932, saving model to /content/weights/checkpoint/cell_seg.hdf5\n",
            "125/125 [==============================] - 6s 52ms/step - loss: 0.0493 - accuracy: 1.0000 - val_loss: 0.0528 - val_accuracy: 0.9999\n",
            "Epoch 9/10\n",
            "124/125 [============================>.] - ETA: 0s - loss: 0.0472 - accuracy: 1.0000\n",
            "Epoch 00009: loss improved from 0.04932 to 0.04704, saving model to /content/weights/checkpoint/cell_seg.hdf5\n",
            "125/125 [==============================] - 7s 52ms/step - loss: 0.0470 - accuracy: 1.0000 - val_loss: 0.0474 - val_accuracy: 1.0000\n",
            "Epoch 10/10\n",
            "124/125 [============================>.] - ETA: 0s - loss: 0.0447 - accuracy: 1.0000\n",
            "Epoch 00010: loss improved from 0.04704 to 0.04496, saving model to /content/weights/checkpoint/cell_seg.hdf5\n",
            "125/125 [==============================] - 7s 52ms/step - loss: 0.0450 - accuracy: 1.0000 - val_loss: 0.0457 - val_accuracy: 1.0000\n"
          ],
          "name": "stdout"
        },
        {
          "output_type": "display_data",
          "data": {
            "image/png": "[encoded data removed]",
            "text/plain": [
              "<Figure size 432x288 with 1 Axes>"
            ]
          },
          "metadata": {
            "tags": [],
            "needs_background": "light"
          }
        },
        {
          "output_type": "display_data",
          "data": {
            "image/png": "[encoded data removed]",
            "text/plain": [
              "<Figure size 432x288 with 1 Axes>"
            ]
          },
          "metadata": {
            "tags": [],
            "needs_background": "light"
          }
        },
        {
          "output_type": "stream",
          "text": [
            "Found 0 images belonging to 1 classes.\n",
            "Found 0 images belonging to 1 classes.\n"
          ],
          "name": "stdout"
        },
        {
          "output_type": "error",
          "ename": "OSError",
          "evalue": "ignored",
          "traceback": [
            "\u001b[0;31m---------------------------------------------------------------------------\u001b[0m",
            "\u001b[0;31mOSError\u001b[0m                                   Traceback (most recent call last)",
            "\u001b[0;32m<ipython-input-6-6a9fbd02ead3>\u001b[0m in \u001b[0;36m<module>\u001b[0;34m()\u001b[0m\n\u001b[1;32m      1\u001b[0m \u001b[0mmodel_name\u001b[0m \u001b[0;34m=\u001b[0m \u001b[0;34m'cell_seg.hdf5'\u001b[0m\u001b[0;34m\u001b[0m\u001b[0;34m\u001b[0m\u001b[0m\n\u001b[0;32m----> 2\u001b[0;31m \u001b[0mmodel\u001b[0m \u001b[0;34m=\u001b[0m \u001b[0mmain\u001b[0m\u001b[0;34m(\u001b[0m\u001b[0mtrain_path\u001b[0m\u001b[0;34m,\u001b[0m \u001b[0mtrain_batch_size\u001b[0m\u001b[0;34m,\u001b[0m \u001b[0mvalidation_path\u001b[0m\u001b[0;34m,\u001b[0m \u001b[0mvalidation_batch_size\u001b[0m\u001b[0;34m,\u001b[0m \u001b[0mnb_epochs\u001b[0m\u001b[0;34m)\u001b[0m\u001b[0;34m\u001b[0m\u001b[0;34m\u001b[0m\u001b[0m\n\u001b[0m\u001b[1;32m      3\u001b[0m \u001b[0mpredict_on_test_and_plot\u001b[0m\u001b[0;34m(\u001b[0m\u001b[0mtest_path\u001b[0m\u001b[0;34m,\u001b[0m \u001b[0mmodel_name\u001b[0m\u001b[0;34m=\u001b[0m\u001b[0mmodel_name\u001b[0m\u001b[0;34m,\u001b[0m \u001b[0mnum\u001b[0m\u001b[0;34m=\u001b[0m\u001b[0;36m98\u001b[0m\u001b[0;34m)\u001b[0m\u001b[0;34m\u001b[0m\u001b[0;34m\u001b[0m\u001b[0m\n",
            "\u001b[0;32m/content/deep_seg/unet_pipeline/main.py\u001b[0m in \u001b[0;36mmain\u001b[0;34m(train_path, train_batch_size, validation_path, validation_batch_size, nb_epochs)\u001b[0m\n\u001b[1;32m     34\u001b[0m     \u001b[0;31m# model = load_weight_map_unet(train_path, train_generator, validation_generator, validation_batch_size, train_batch_size, nb_epochs, train_image_generator, validation_image_generator)\u001b[0m\u001b[0;34m\u001b[0m\u001b[0;34m\u001b[0m\u001b[0;34m\u001b[0m\u001b[0m\n\u001b[1;32m     35\u001b[0m     \u001b[0mplot_results\u001b[0m\u001b[0;34m(\u001b[0m\u001b[0mmodel\u001b[0m\u001b[0;34m)\u001b[0m\u001b[0;34m\u001b[0m\u001b[0;34m\u001b[0m\u001b[0m\n\u001b[0;32m---> 36\u001b[0;31m     \u001b[0mpredict_on_test_and_plot\u001b[0m\u001b[0;34m(\u001b[0m\u001b[0mmodel_name\u001b[0m\u001b[0;34m=\u001b[0m\u001b[0mmodel_name\u001b[0m\u001b[0;34m,\u001b[0m \u001b[0mtest_path\u001b[0m\u001b[0;34m=\u001b[0m\u001b[0mtest_path\u001b[0m\u001b[0;34m,\u001b[0m \u001b[0mnum\u001b[0m\u001b[0;34m=\u001b[0m\u001b[0;36m96\u001b[0m\u001b[0;34m)\u001b[0m\u001b[0;34m\u001b[0m\u001b[0;34m\u001b[0m\u001b[0m\n\u001b[0m\u001b[1;32m     37\u001b[0m     \u001b[0;32mreturn\u001b[0m \u001b[0mmodel\u001b[0m\u001b[0;34m\u001b[0m\u001b[0;34m\u001b[0m\u001b[0m\n",
            "\u001b[0;32m/content/deep_seg/unet_pipeline/generator.py\u001b[0m in \u001b[0;36mpredict_on_test_and_plot\u001b[0;34m(test_path, model_name, num)\u001b[0m\n\u001b[1;32m    132\u001b[0m \u001b[0;34m\u001b[0m\u001b[0m\n\u001b[1;32m    133\u001b[0m     \u001b[0;31m# model = load_model(os.path.join(train_path, 'checkpoint', model_name), custom_objects={'lossFunc': WeightedLoss})\u001b[0m\u001b[0;34m\u001b[0m\u001b[0;34m\u001b[0m\u001b[0;34m\u001b[0m\u001b[0m\n\u001b[0;32m--> 134\u001b[0;31m     \u001b[0mmodel\u001b[0m \u001b[0;34m=\u001b[0m \u001b[0mload_model\u001b[0m\u001b[0;34m(\u001b[0m\u001b[0mos\u001b[0m\u001b[0;34m.\u001b[0m\u001b[0mpath\u001b[0m\u001b[0;34m.\u001b[0m\u001b[0mjoin\u001b[0m\u001b[0;34m(\u001b[0m\u001b[0;34m'/content/weights'\u001b[0m\u001b[0;34m,\u001b[0m \u001b[0;34m'checkpoint'\u001b[0m\u001b[0;34m,\u001b[0m \u001b[0mmodel_name\u001b[0m\u001b[0;34m)\u001b[0m\u001b[0;34m,\u001b[0m \u001b[0mcompile\u001b[0m\u001b[0;34m=\u001b[0m\u001b[0;32mFalse\u001b[0m\u001b[0;34m)\u001b[0m\u001b[0;34m\u001b[0m\u001b[0;34m\u001b[0m\u001b[0m\n\u001b[0m\u001b[1;32m    135\u001b[0m     \u001b[0;31m# model.compile(optimizer=Adam(lr=learning_rate),\u001b[0m\u001b[0;34m\u001b[0m\u001b[0;34m\u001b[0m\u001b[0;34m\u001b[0m\u001b[0m\n\u001b[1;32m    136\u001b[0m     \u001b[0;31m#              loss=weightedLoss(keras.losses.categorical_crossentropy, class_weight),\u001b[0m\u001b[0;34m\u001b[0m\u001b[0;34m\u001b[0m\u001b[0;34m\u001b[0m\u001b[0m\n",
            "\u001b[0;32m/usr/local/lib/python3.6/dist-packages/tensorflow/python/keras/saving/save.py\u001b[0m in \u001b[0;36mload_model\u001b[0;34m(filepath, custom_objects, compile, options)\u001b[0m\n\u001b[1;32m    184\u001b[0m     \u001b[0mfilepath\u001b[0m \u001b[0;34m=\u001b[0m \u001b[0mpath_to_string\u001b[0m\u001b[0;34m(\u001b[0m\u001b[0mfilepath\u001b[0m\u001b[0;34m)\u001b[0m\u001b[0;34m\u001b[0m\u001b[0;34m\u001b[0m\u001b[0m\n\u001b[1;32m    185\u001b[0m     \u001b[0;32mif\u001b[0m \u001b[0misinstance\u001b[0m\u001b[0;34m(\u001b[0m\u001b[0mfilepath\u001b[0m\u001b[0;34m,\u001b[0m \u001b[0msix\u001b[0m\u001b[0;34m.\u001b[0m\u001b[0mstring_types\u001b[0m\u001b[0;34m)\u001b[0m\u001b[0;34m:\u001b[0m\u001b[0;34m\u001b[0m\u001b[0;34m\u001b[0m\u001b[0m\n\u001b[0;32m--> 186\u001b[0;31m       \u001b[0mloader_impl\u001b[0m\u001b[0;34m.\u001b[0m\u001b[0mparse_saved_model\u001b[0m\u001b[0;34m(\u001b[0m\u001b[0mfilepath\u001b[0m\u001b[0;34m)\u001b[0m\u001b[0;34m\u001b[0m\u001b[0;34m\u001b[0m\u001b[0m\n\u001b[0m\u001b[1;32m    187\u001b[0m       \u001b[0;32mreturn\u001b[0m \u001b[0msaved_model_load\u001b[0m\u001b[0;34m.\u001b[0m\u001b[0mload\u001b[0m\u001b[0;34m(\u001b[0m\u001b[0mfilepath\u001b[0m\u001b[0;34m,\u001b[0m \u001b[0mcompile\u001b[0m\u001b[0;34m,\u001b[0m \u001b[0moptions\u001b[0m\u001b[0;34m)\u001b[0m\u001b[0;34m\u001b[0m\u001b[0;34m\u001b[0m\u001b[0m\n\u001b[1;32m    188\u001b[0m \u001b[0;34m\u001b[0m\u001b[0m\n",
            "\u001b[0;32m/usr/local/lib/python3.6/dist-packages/tensorflow/python/saved_model/loader_impl.py\u001b[0m in \u001b[0;36mparse_saved_model\u001b[0;34m(export_dir)\u001b[0m\n\u001b[1;32m    111\u001b[0m                   (export_dir,\n\u001b[1;32m    112\u001b[0m                    \u001b[0mconstants\u001b[0m\u001b[0;34m.\u001b[0m\u001b[0mSAVED_MODEL_FILENAME_PBTXT\u001b[0m\u001b[0;34m,\u001b[0m\u001b[0;34m\u001b[0m\u001b[0;34m\u001b[0m\u001b[0m\n\u001b[0;32m--> 113\u001b[0;31m                    constants.SAVED_MODEL_FILENAME_PB))\n\u001b[0m\u001b[1;32m    114\u001b[0m \u001b[0;34m\u001b[0m\u001b[0m\n\u001b[1;32m    115\u001b[0m \u001b[0;34m\u001b[0m\u001b[0m\n",
            "\u001b[0;31mOSError\u001b[0m: SavedModel file does not exist at: /content/weights/checkpoint/cell_seg.hdf5/{saved_model.pbtxt|saved_model.pb}"
          ]
        }
      ]
    },
    {
      "cell_type": "code",
      "metadata": {
        "id": "9T6VmsCW6bv8",
        "outputId": "5d1bdb12-6323-4a6d-ad3d-cb6e3dde045d",
        "colab": {
          "base_uri": "https://localhost:8080/",
          "height": 383
        }
      },
      "source": [
        "%matplotlib inline\n",
        "%config InlineBackend.figure_format='retina'\n",
        "model_name = 'cell_seg.hdf5'\n",
        "predict_on_test_and_plot(test_path, model_name=model_name, num=96)"
      ],
      "execution_count": 7,
      "outputs": [
        {
          "output_type": "stream",
          "text": [
            "Found 100 images belonging to 1 classes.\n",
            "Found 100 images belonging to 1 classes.\n"
          ],
          "name": "stdout"
        },
        {
          "output_type": "error",
          "ename": "OSError",
          "evalue": "ignored",
          "traceback": [
            "\u001b[0;31m---------------------------------------------------------------------------\u001b[0m",
            "\u001b[0;31mOSError\u001b[0m                                   Traceback (most recent call last)",
            "\u001b[0;32m<ipython-input-7-149e9a5deb8f>\u001b[0m in \u001b[0;36m<module>\u001b[0;34m()\u001b[0m\n\u001b[1;32m      2\u001b[0m \u001b[0mget_ipython\u001b[0m\u001b[0;34m(\u001b[0m\u001b[0;34m)\u001b[0m\u001b[0;34m.\u001b[0m\u001b[0mmagic\u001b[0m\u001b[0;34m(\u001b[0m\u001b[0;34m\"config InlineBackend.figure_format='retina'\"\u001b[0m\u001b[0;34m)\u001b[0m\u001b[0;34m\u001b[0m\u001b[0;34m\u001b[0m\u001b[0m\n\u001b[1;32m      3\u001b[0m \u001b[0mmodel_name\u001b[0m \u001b[0;34m=\u001b[0m \u001b[0;34m'cell_seg.hdf5'\u001b[0m\u001b[0;34m\u001b[0m\u001b[0;34m\u001b[0m\u001b[0m\n\u001b[0;32m----> 4\u001b[0;31m \u001b[0mpredict_on_test_and_plot\u001b[0m\u001b[0;34m(\u001b[0m\u001b[0mtest_path\u001b[0m\u001b[0;34m,\u001b[0m \u001b[0mmodel_name\u001b[0m\u001b[0;34m=\u001b[0m\u001b[0mmodel_name\u001b[0m\u001b[0;34m,\u001b[0m \u001b[0mnum\u001b[0m\u001b[0;34m=\u001b[0m\u001b[0;36m96\u001b[0m\u001b[0;34m)\u001b[0m\u001b[0;34m\u001b[0m\u001b[0;34m\u001b[0m\u001b[0m\n\u001b[0m",
            "\u001b[0;32m/content/deep_seg/unet_pipeline/generator.py\u001b[0m in \u001b[0;36mpredict_on_test_and_plot\u001b[0;34m(test_path, model_name, num)\u001b[0m\n\u001b[1;32m    132\u001b[0m \u001b[0;34m\u001b[0m\u001b[0m\n\u001b[1;32m    133\u001b[0m     \u001b[0;31m# model = load_model(os.path.join(train_path, 'checkpoint', model_name), custom_objects={'lossFunc': WeightedLoss})\u001b[0m\u001b[0;34m\u001b[0m\u001b[0;34m\u001b[0m\u001b[0;34m\u001b[0m\u001b[0m\n\u001b[0;32m--> 134\u001b[0;31m     \u001b[0mmodel\u001b[0m \u001b[0;34m=\u001b[0m \u001b[0mload_model\u001b[0m\u001b[0;34m(\u001b[0m\u001b[0mos\u001b[0m\u001b[0;34m.\u001b[0m\u001b[0mpath\u001b[0m\u001b[0;34m.\u001b[0m\u001b[0mjoin\u001b[0m\u001b[0;34m(\u001b[0m\u001b[0;34m'/content/weights'\u001b[0m\u001b[0;34m,\u001b[0m \u001b[0;34m'checkpoint'\u001b[0m\u001b[0;34m,\u001b[0m \u001b[0mmodel_name\u001b[0m\u001b[0;34m)\u001b[0m\u001b[0;34m,\u001b[0m \u001b[0mcompile\u001b[0m\u001b[0;34m=\u001b[0m\u001b[0;32mFalse\u001b[0m\u001b[0;34m)\u001b[0m\u001b[0;34m\u001b[0m\u001b[0;34m\u001b[0m\u001b[0m\n\u001b[0m\u001b[1;32m    135\u001b[0m     \u001b[0;31m# model.compile(optimizer=Adam(lr=learning_rate),\u001b[0m\u001b[0;34m\u001b[0m\u001b[0;34m\u001b[0m\u001b[0;34m\u001b[0m\u001b[0m\n\u001b[1;32m    136\u001b[0m     \u001b[0;31m#              loss=weightedLoss(keras.losses.categorical_crossentropy, class_weight),\u001b[0m\u001b[0;34m\u001b[0m\u001b[0;34m\u001b[0m\u001b[0;34m\u001b[0m\u001b[0m\n",
            "\u001b[0;32m/usr/local/lib/python3.6/dist-packages/tensorflow/python/keras/saving/save.py\u001b[0m in \u001b[0;36mload_model\u001b[0;34m(filepath, custom_objects, compile, options)\u001b[0m\n\u001b[1;32m    184\u001b[0m     \u001b[0mfilepath\u001b[0m \u001b[0;34m=\u001b[0m \u001b[0mpath_to_string\u001b[0m\u001b[0;34m(\u001b[0m\u001b[0mfilepath\u001b[0m\u001b[0;34m)\u001b[0m\u001b[0;34m\u001b[0m\u001b[0;34m\u001b[0m\u001b[0m\n\u001b[1;32m    185\u001b[0m     \u001b[0;32mif\u001b[0m \u001b[0misinstance\u001b[0m\u001b[0;34m(\u001b[0m\u001b[0mfilepath\u001b[0m\u001b[0;34m,\u001b[0m \u001b[0msix\u001b[0m\u001b[0;34m.\u001b[0m\u001b[0mstring_types\u001b[0m\u001b[0;34m)\u001b[0m\u001b[0;34m:\u001b[0m\u001b[0;34m\u001b[0m\u001b[0;34m\u001b[0m\u001b[0m\n\u001b[0;32m--> 186\u001b[0;31m       \u001b[0mloader_impl\u001b[0m\u001b[0;34m.\u001b[0m\u001b[0mparse_saved_model\u001b[0m\u001b[0;34m(\u001b[0m\u001b[0mfilepath\u001b[0m\u001b[0;34m)\u001b[0m\u001b[0;34m\u001b[0m\u001b[0;34m\u001b[0m\u001b[0m\n\u001b[0m\u001b[1;32m    187\u001b[0m       \u001b[0;32mreturn\u001b[0m \u001b[0msaved_model_load\u001b[0m\u001b[0;34m.\u001b[0m\u001b[0mload\u001b[0m\u001b[0;34m(\u001b[0m\u001b[0mfilepath\u001b[0m\u001b[0;34m,\u001b[0m \u001b[0mcompile\u001b[0m\u001b[0;34m,\u001b[0m \u001b[0moptions\u001b[0m\u001b[0;34m)\u001b[0m\u001b[0;34m\u001b[0m\u001b[0;34m\u001b[0m\u001b[0m\n\u001b[1;32m    188\u001b[0m \u001b[0;34m\u001b[0m\u001b[0m\n",
            "\u001b[0;32m/usr/local/lib/python3.6/dist-packages/tensorflow/python/saved_model/loader_impl.py\u001b[0m in \u001b[0;36mparse_saved_model\u001b[0;34m(export_dir)\u001b[0m\n\u001b[1;32m    111\u001b[0m                   (export_dir,\n\u001b[1;32m    112\u001b[0m                    \u001b[0mconstants\u001b[0m\u001b[0;34m.\u001b[0m\u001b[0mSAVED_MODEL_FILENAME_PBTXT\u001b[0m\u001b[0;34m,\u001b[0m\u001b[0;34m\u001b[0m\u001b[0;34m\u001b[0m\u001b[0m\n\u001b[0;32m--> 113\u001b[0;31m                    constants.SAVED_MODEL_FILENAME_PB))\n\u001b[0m\u001b[1;32m    114\u001b[0m \u001b[0;34m\u001b[0m\u001b[0m\n\u001b[1;32m    115\u001b[0m \u001b[0;34m\u001b[0m\u001b[0m\n",
            "\u001b[0;31mOSError\u001b[0m: SavedModel file does not exist at: /content/weights/checkpoint/cell_seg.hdf5/{saved_model.pbtxt|saved_model.pb}"
          ]
        }
      ]
    },
    {
      "cell_type": "code",
      "metadata": {
        "id": "77Y6PTQVPDnt"
      },
      "source": [
        "%cd /content/\n",
        "i = 1\n",
        "train_percent = 0.7\n",
        "data_size = 670\n",
        "dim = (640,480)\n",
        "path = '/content/train'\n",
        "list_subfolders_with_paths = [f.path for f in os.scandir(path) if f.is_dir()]\n",
        "train_size = int(data_size*train_percent)\n",
        "test_size = data_size - train_size\n",
        "for sub in list_subfolders_with_paths :\n",
        "  folder_types = [f.path for f in os.scandir(sub) if f.is_dir()]\n",
        "  if i < train_size : \n",
        "    os.mkdir('data/train/OP'+str(i))\n",
        "  else :\n",
        "    os.mkdir('data/test/OP'+str(i))\n",
        "  for f_type in folder_types :\n",
        "    if f_type.split('/')[-1] == 'masks': \n",
        "      onlyfiles = [f for f in os.listdir(f_type) if os.path.isfile(os.path.join(f_type, f))]\n",
        "      src = f_type + '/' + onlyfiles[0]\n",
        "      src1 = cv.imread(src)\n",
        "      for img in onlyfiles : \n",
        "        src2 = cv.imread(f_type + '/' + img)\n",
        "        alpha = 1\n",
        "        beta = 1\n",
        "        src1 = cv.addWeighted(src1, alpha, src2, beta, 0.0)\n",
        "      img = cv.resize(src1, dim, interpolation = cv.INTER_AREA)\n",
        "      if i < train_size :\n",
        "        cv.imwrite('data/train/OP'+str(i)+'/img_' + str(i) + '_class.png',img)\n",
        "      else :\n",
        "        cv.imwrite('data/test/OP'+str(i)+'/img_' + str(i) + '_class.png',img)\n",
        "    if f_type.split('/')[-1] == 'images':\n",
        "      onlyfiles = [f for f in os.listdir(f_type) if os.path.isfile(os.path.join(f_type, f))]\n",
        "      img_raw = cv.imread(f_type + '/' + onlyfiles[0])\n",
        "      img = cv.resize(img_raw, dim, interpolation = cv.INTER_AREA)\n",
        "      if i < train_size :\n",
        "        cv.imwrite('data/train/OP'+str(i)+'/img_' + str(i) + '_raw.png',img)\n",
        "      else :\n",
        "        cv.imwrite('data/test/OP'+str(i)+'/img_' + str(i) + '_raw.png',img)\n",
        "  i += 1\n",
        "!rm -rf /content/train /content/{"
      ],
      "execution_count": null,
      "outputs": []
    },
    {
      "cell_type": "code",
      "metadata": {
        "id": "V8I5bpr_S9Lf"
      },
      "source": [
        "%%capture\n",
        "!git clone https://github.com/yuta-hi/pytorch-trainer\n",
        "!cd pytorch-trainer && python setup.py install\n",
        "!git clone https://github.com/IhabBendidi/pytorch_bayesian_unet \n",
        "!cd pytorch_bayesian_unet && pip install -r requirements.txt && python setup.py install\n",
        "\n",
        "\n",
        "!cp -r /content/data/train /content/pytorch_bayesian_unet/examples/cellular_segmentation/train\n",
        "!cp -r /content/data/test /content/pytorch_bayesian_unet/examples/cellular_segmentation/test\n"
      ],
      "execution_count": 5,
      "outputs": []
    },
    {
      "cell_type": "code",
      "metadata": {
        "colab": {
          "base_uri": "https://localhost:8080/"
        },
        "id": "iIv_Wz_0XF_-",
        "outputId": "d6484179-b494-4bd3-d999-eea4029a44e1"
      },
      "source": [
        "!python /content/pytorch_bayesian_unet/examples/cellular_segmentation/preprocess.py"
      ],
      "execution_count": 6,
      "outputs": [
        {
          "output_type": "stream",
          "text": [
            "# train images: 467\n",
            "100% 467/467 [00:00<00:00, 3006.86it/s]\n",
            "# train labels: 467\n",
            "100% 467/467 [00:02<00:00, 201.44it/s]\n",
            "# test images: 203\n",
            "100% 203/203 [00:00<00:00, 2239.41it/s]\n",
            "# test labels: 203\n",
            "100% 203/203 [00:01<00:00, 199.57it/s]\n"
          ],
          "name": "stdout"
        }
      ]
    },
    {
      "cell_type": "code",
      "metadata": {
        "colab": {
          "base_uri": "https://localhost:8080/"
        },
        "id": "ILvfovogYCSO",
        "outputId": "a4250c5c-0872-41e1-dd65-dd29dd63e697"
      },
      "source": [
        "!python /content/pytorch_bayesian_unet/examples/cellular_segmentation/train_and_test_epistemic.py --iteration 3000"
      ],
      "execution_count": 7,
      "outputs": [
        {
          "output_type": "stream",
          "text": [
            "GPU: cuda:0\n",
            "# Minibatch-size: 2\n",
            "\n",
            "Collecting image files: 100%|████████████████████| 1/1 [00:00<00:00, 116.28it/s]\n",
            "Collecting label files: 100%|████████████████████| 1/1 [00:00<00:00, 124.92it/s]\n",
            "Collecting image files: 100%|████████████████████| 1/1 [00:00<00:00, 141.09it/s]\n",
            "Collecting label files: 100%|████████████████████| 1/1 [00:00<00:00, 134.33it/s]\n",
            "Collecting image files: 100%|████████████████████| 1/1 [00:00<00:00, 261.95it/s]\n",
            "Collecting label files: 100%|████████████████████| 1/1 [00:00<00:00, 290.34it/s]\n",
            "# classes: 2\n",
            "# samples:\n",
            "-- train: 421\n",
            "-- valid: 46\n",
            "iteration   main/loss   validation/main/loss  main/accuracy  validation/main/accuracy  elapsed_time\n",
            "\u001b[J0                       1.85458e+08                          0.329972                  4.454         \n",
            "\u001b[J100         96541.2                           0.95007                                  46.1433       \n",
            "\u001b[J     total [#.................................................]  3.33%\n",
            "this epoch [#######################...........................] 47.51%\n",
            "       100 iter, 0 epoch / 3000 iterations\n",
            "       inf iters/sec. Estimated time to finish: 0:00:00.\n",
            "\u001b[J200         56636                             0.942935                                 93.7185       \n",
            "\u001b[J     total [###...............................................]  6.67%\n",
            "this epoch [###############################################...] 95.01%\n",
            "       200 iter, 0 epoch / 3000 iterations\n",
            "    2.1019 iters/sec. Estimated time to finish: 0:22:12.103413.\n",
            "\u001b[J300         68178.1     69566.5               0.920391       0.919661                  141.791       \n",
            "\u001b[J     total [#####.............................................] 10.00%\n",
            "this epoch [#####################.............................] 42.52%\n",
            "       300 iter, 1 epoch / 3000 iterations\n",
            "     2.081 iters/sec. Estimated time to finish: 0:21:37.427156.\n",
            "\u001b[4A\u001b[J400         27395.6                           0.976232                                 186.492       \n",
            "\u001b[J     total [######............................................] 13.33%\n",
            "this epoch [#############################################.....] 90.02%\n",
            "       400 iter, 1 epoch / 3000 iterations\n",
            "    2.1375 iters/sec. Estimated time to finish: 0:20:16.351966.\n",
            "\u001b[J500         18184.6                           0.987324                                 235.188       \n",
            "\u001b[J     total [########..........................................] 16.67%\n",
            "this epoch [##################................................] 37.53%\n",
            "       500 iter, 2 epoch / 3000 iterations\n",
            "    2.1159 iters/sec. Estimated time to finish: 0:19:41.527075.\n",
            "\u001b[J600         56797       71704.6               0.917931       0.895481                  283.514       \n",
            "\u001b[J     total [##########........................................] 20.00%\n",
            "this epoch [##########################################........] 85.04%\n",
            "       600 iter, 2 epoch / 3000 iterations\n",
            "    2.1025 iters/sec. Estimated time to finish: 0:19:01.490738.\n",
            "\u001b[4A\u001b[J700         31418.2                           0.959764                                 328.107       \n",
            "\u001b[J     total [###########.......................................] 23.33%\n",
            "this epoch [################..................................] 32.54%\n",
            "       700 iter, 3 epoch / 3000 iterations\n",
            "    2.1279 iters/sec. Estimated time to finish: 0:18:00.860157.\n",
            "\u001b[J800         10264.2                           0.992718                                 376.768       \n",
            "\u001b[J     total [#############.....................................] 26.67%\n",
            "this epoch [########################################..........] 80.05%\n",
            "       800 iter, 3 epoch / 3000 iterations\n",
            "    2.1172 iters/sec. Estimated time to finish: 0:17:19.106059.\n",
            "\u001b[J900         36486.1     71428.5               0.95402        0.879326                  425.229       \n",
            "\u001b[J     total [###############...................................] 30.00%\n",
            "this epoch [#############.....................................] 27.55%\n",
            "       900 iter, 4 epoch / 3000 iterations\n",
            "    2.1078 iters/sec. Estimated time to finish: 0:16:36.289737.\n",
            "\u001b[4A\u001b[J1000        38425.7                           0.950443                                 469.913       \n",
            "\u001b[J     total [################..................................] 33.33%\n",
            "this epoch [#####################################.............] 75.06%\n",
            "      1000 iter, 4 epoch / 3000 iterations\n",
            "    2.1238 iters/sec. Estimated time to finish: 0:15:41.711050.\n",
            "\u001b[J1100        19390                             0.9743                                   518.745       \n",
            "\u001b[J     total [##################................................] 36.67%\n",
            "this epoch [###########.......................................] 22.57%\n",
            "      1100 iter, 5 epoch / 3000 iterations\n",
            "    2.1159 iters/sec. Estimated time to finish: 0:14:57.943262.\n",
            "\u001b[J1200        13770.4     57857.4               0.985314       0.911586                  567.015       \n",
            "\u001b[J     total [####################..............................] 40.00%\n",
            "this epoch [###################################...............] 70.07%\n",
            "      1200 iter, 5 epoch / 3000 iterations\n",
            "      2.11 iters/sec. Estimated time to finish: 0:14:13.072069.\n",
            "\u001b[4A\u001b[J1300        40905.9                           0.947202                                 611.704       \n",
            "\u001b[J     total [#####################.............................] 43.33%\n",
            "this epoch [########..........................................] 17.58%\n",
            "      1300 iter, 6 epoch / 3000 iterations\n",
            "    2.1218 iters/sec. Estimated time to finish: 0:13:21.211483.\n",
            "\u001b[J1400        30076.4                           0.963094                                 660.63        \n",
            "\u001b[J     total [#######################...........................] 46.67%\n",
            "this epoch [################################..................] 65.08%\n",
            "      1400 iter, 6 epoch / 3000 iterations\n",
            "    2.1156 iters/sec. Estimated time to finish: 0:12:36.291823.\n",
            "\u001b[J1500        14122.4     49835.6               0.984478       0.936434                  709.102       \n",
            "\u001b[J     total [#########################.........................] 50.00%\n",
            "this epoch [######............................................] 12.59%\n",
            "      1500 iter, 7 epoch / 3000 iterations\n",
            "    2.1103 iters/sec. Estimated time to finish: 0:11:50.797733.\n",
            "\u001b[4A\u001b[J1600        28566.8                           0.959124                                 753.661       \n",
            "\u001b[J     total [##########################........................] 53.33%\n",
            "this epoch [##############################....................] 60.10%\n",
            "      1600 iter, 7 epoch / 3000 iterations\n",
            "    2.1201 iters/sec. Estimated time to finish: 0:11:00.349705.\n",
            "\u001b[J1700        63736.1                           0.917839                                 802.372       \n",
            "\u001b[J     total [############################......................] 56.67%\n",
            "this epoch [###...............................................]  7.60%\n",
            "      1700 iter, 8 epoch / 3000 iterations\n",
            "    2.1158 iters/sec. Estimated time to finish: 0:10:14.436080.\n",
            "\u001b[J1800        9751.3      52062.4               0.989683       0.94417                   850.569       \n",
            "\u001b[J     total [##############################....................] 60.00%\n",
            "this epoch [###########################.......................] 55.11%\n",
            "      1800 iter, 8 epoch / 3000 iterations\n",
            "    2.1121 iters/sec. Estimated time to finish: 0:09:28.149099.\n",
            "\u001b[4A\u001b[J1900        11411.6                           0.987116                                 895.187       \n",
            "\u001b[J     total [###############################...................] 63.33%\n",
            "this epoch [#.................................................]  2.61%\n",
            "      1900 iter, 9 epoch / 3000 iterations\n",
            "      2.12 iters/sec. Estimated time to finish: 0:08:38.859872.\n",
            "\u001b[J2000        16918.6                           0.980861                                 944.149       \n",
            "\u001b[J     total [#################################.................] 66.67%\n",
            "this epoch [#########################.........................] 50.12%\n",
            "      2000 iter, 9 epoch / 3000 iterations\n",
            "    2.1158 iters/sec. Estimated time to finish: 0:07:52.634607.\n",
            "\u001b[J2100        15452.9     50608.1               0.983481       0.930638                  992.465       \n",
            "\u001b[J     total [###################################...............] 70.00%\n",
            "this epoch [################################################..] 97.62%\n",
            "      2100 iter, 9 epoch / 3000 iterations\n",
            "    2.1124 iters/sec. Estimated time to finish: 0:07:06.051087.\n",
            "\u001b[4A\u001b[J2200        18063.2                           0.976703                                 1037.27       \n",
            "\u001b[J     total [####################################..............] 73.33%\n",
            "this epoch [######################............................] 45.13%\n",
            "      2200 iter, 10 epoch / 3000 iterations\n",
            "    2.1188 iters/sec. Estimated time to finish: 0:06:17.573722.\n",
            "\u001b[J2300        27333.8                           0.962503                                 1086.09       \n",
            "\u001b[J     total [######################################............] 76.67%\n",
            "this epoch [##############################################....] 92.64%\n",
            "      2300 iter, 10 epoch / 3000 iterations\n",
            "    2.1155 iters/sec. Estimated time to finish: 0:05:30.892439.\n",
            "\u001b[J2400        10249.3     98907.9               0.988192       0.843028                  1134.37       \n",
            "\u001b[J     total [########################################..........] 80.00%\n",
            "this epoch [####################..............................] 40.14%\n",
            "      2400 iter, 11 epoch / 3000 iterations\n",
            "    2.1127 iters/sec. Estimated time to finish: 0:04:44.001378.\n",
            "\u001b[4A\u001b[J2500        25800.5                           0.964655                                 1178.88       \n",
            "\u001b[J     total [#########################################.........] 83.33%\n",
            "this epoch [###########################################.......] 87.65%\n",
            "      2500 iter, 11 epoch / 3000 iterations\n",
            "    2.1188 iters/sec. Estimated time to finish: 0:03:55.986224.\n",
            "\u001b[J2600        3052.74                           0.997843                                 1228          \n",
            "\u001b[J     total [###########################################.......] 86.67%\n",
            "this epoch [#################.................................] 35.15%\n",
            "      2600 iter, 12 epoch / 3000 iterations\n",
            "    2.1153 iters/sec. Estimated time to finish: 0:03:09.096862.\n",
            "\u001b[J2700        6666.92     58738.5               0.99279        0.942357                  1276.38       \n",
            "\u001b[J     total [#############################################.....] 90.00%\n",
            "this epoch [#########################################.........] 82.66%\n",
            "      2700 iter, 12 epoch / 3000 iterations\n",
            "    2.1126 iters/sec. Estimated time to finish: 0:02:22.002838.\n",
            "\u001b[4A\u001b[J2800        12250.1                           0.985277                                 1321.07       \n",
            "\u001b[J     total [##############################################....] 93.33%\n",
            "this epoch [###############...................................] 30.17%\n",
            "      2800 iter, 13 epoch / 3000 iterations\n",
            "    2.1178 iters/sec. Estimated time to finish: 0:01:34.438974.\n",
            "\u001b[J2900        20073.7                           0.973145                                 1370          \n",
            "\u001b[J     total [################################################..] 96.67%\n",
            "this epoch [######################################............] 77.67%\n",
            "      2900 iter, 13 epoch / 3000 iterations\n",
            "     2.115 iters/sec. Estimated time to finish: 0:00:47.280763.\n",
            "\u001b[J3000        29734.4     45310.6               0.961035       0.932698                  1418.47       \n",
            "\u001b[J     total [##################################################] 100.00%\n",
            "this epoch [############......................................] 25.18%\n",
            "      3000 iter, 14 epoch / 3000 iterations\n",
            "    2.1124 iters/sec. Estimated time to finish: 0:00:00.\n",
            "\u001b[4A\u001b[J"
          ],
          "name": "stdout"
        }
      ]
    },
    {
      "cell_type": "code",
      "metadata": {
        "colab": {
          "base_uri": "https://localhost:8080/"
        },
        "id": "f5okwP67roPF",
        "outputId": "30c07954-f031-48c1-e600-10c5731897c4"
      },
      "source": [
        "!python /content/pytorch_bayesian_unet/examples/cellular_segmentation/train_and_test_epistemic.py --test_on_test"
      ],
      "execution_count": 8,
      "outputs": [
        {
          "output_type": "stream",
          "text": [
            "GPU: cuda:0\n",
            "# Minibatch-size: 2\n",
            "\n",
            "\rCollecting image files:   0%|                             | 0/1 [00:00<?, ?it/s]\rCollecting image files: 100%|█████████████████████| 1/1 [00:00<00:00, 69.77it/s]\n",
            "\rCollecting label files:   0%|                             | 0/1 [00:00<?, ?it/s]\rCollecting label files: 100%|████████████████████| 1/1 [00:00<00:00, 123.76it/s]\n",
            "\rCollecting image files:   0%|                             | 0/1 [00:00<?, ?it/s]\rCollecting image files: 100%|████████████████████| 1/1 [00:00<00:00, 138.15it/s]\n",
            "\rCollecting label files:   0%|                             | 0/1 [00:00<?, ?it/s]\rCollecting label files: 100%|████████████████████| 1/1 [00:00<00:00, 139.65it/s]\n",
            "\rCollecting image files:   0%|                             | 0/1 [00:00<?, ?it/s]\rCollecting image files: 100%|████████████████████| 1/1 [00:00<00:00, 236.83it/s]\n",
            "\rCollecting label files:   0%|                             | 0/1 [00:00<?, ?it/s]\rCollecting label files: 100%|████████████████████| 1/1 [00:00<00:00, 295.08it/s]\n",
            "# samples:\n",
            "-- test: 203\n",
            "Loaded a snapshot: logs/predictor_iter_00003000.pth\n"
          ],
          "name": "stdout"
        }
      ]
    },
    {
      "cell_type": "code",
      "metadata": {
        "id": "4D-qOzH9mdu8"
      },
      "source": [
        ""
      ],
      "execution_count": null,
      "outputs": []
    }
  ]
}
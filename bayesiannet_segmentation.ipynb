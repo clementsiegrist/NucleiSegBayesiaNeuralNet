{
  "nbformat": 4,
  "nbformat_minor": 0,
  "metadata": {
    "colab": {
      "name": "Untitled5.ipynb",
      "provenance": [],
      "toc_visible": true,
      "include_colab_link": true
    },
    "kernelspec": {
      "name": "python3",
      "display_name": "Python 3"
    }
  },
  "cells": [
    {
      "cell_type": "markdown",
      "metadata": {
        "id": "view-in-github",
        "colab_type": "text"
      },
      "source": [
        "<a href=\"https://colab.research.google.com/github/clementsiegrist/segmentation_probabilisticDL/blob/main/bayesiannet_segmentation.ipynb\" target=\"_parent\"><img src=\"https://colab.research.google.com/assets/colab-badge.svg\" alt=\"Open In Colab\"/></a>"
      ]
    },
    {
      "cell_type": "code",
      "metadata": {
        "id": "MFjCG5BmbGfz"
      },
      "source": [
        "%%capture\n",
        "!wget https://raw.githubusercontent.com/clementsiegrist/segmentation_probabilisticDL/main/requirements.txt \n",
        "!pip3 install -r requirements.txt\n",
        "!pip3 install --upgrade --force-reinstall --no-deps kaggle"
      ],
      "execution_count": 1,
      "outputs": []
    },
    {
      "cell_type": "code",
      "metadata": {
        "id": "9iHBWMhLu61E"
      },
      "source": [
        "%%capture\n",
        "!mkdir ~/.kaggle\n",
        "!touch ~/.kaggle/kaggle.json\n",
        "\n",
        "\n",
        "api_token = {\"username\":\"bendidihab\",\"key\":\"6b534264cbd90d4cc3f040b1894cb226\"}\n",
        "import json\n",
        "with open('/root/.kaggle/kaggle.json', 'w') as file:\n",
        "    json.dump(api_token, file)\n",
        "\n",
        "\n",
        "!chmod 600 ~/.kaggle/kaggle.json\n",
        "!kaggle config set -n path -v{/content}\n",
        "!kaggle competitions download -c data-science-bowl-2018\n",
        "!unzip /content/{/content}/competitions/data-science-bowl-2018/data-science-bowl-2018.zip\n",
        "!mkdir /content/train\n",
        "!mv -i /content/stage1_train.zip /content/train\n",
        "!cd /content/train && unzip /content/train/stage1_train.zip\n",
        "!mkdir /content/data && mkdir /content/data/train && mkdir /content/data/test\n",
        "!rm -rf /content/stage1_sample_submission.csv.zip /content/stage1_solution.csv.zip /content/stage1_test.zip /content/stage1_train_labels.csv.zip /content/stage2_sample_submission_final.csv.zip /content/stage2_test_final.zip"
      ],
      "execution_count": 2,
      "outputs": []
    },
    {
      "cell_type": "code",
      "metadata": {
        "id": "49qc-SCGM2sd"
      },
      "source": [
        "import cv2 as cv\n",
        "import os\n",
        "import numpy as np\n",
        "from google.colab.patches import cv2_imshow"
      ],
      "execution_count": 3,
      "outputs": []
    },
    {
      "cell_type": "code",
      "metadata": {
        "id": "77Y6PTQVPDnt"
      },
      "source": [
        "i = 1\n",
        "train_percent = 0.7\n",
        "data_size = 670\n",
        "path = '/content/train'\n",
        "list_subfolders_with_paths = [f.path for f in os.scandir(path) if f.is_dir()]\n",
        "train_size = int(data_size*train_percent)\n",
        "test_size = data_size - train_size\n",
        "for sub in list_subfolders_with_paths :\n",
        "  folder_types = [f.path for f in os.scandir(sub) if f.is_dir()]\n",
        "  for f_type in folder_types :\n",
        "    if f_type.split('/')[-1] == 'masks': \n",
        "      onlyfiles = [f for f in os.listdir(f_type) if os.path.isfile(os.path.join(f_type, f))]\n",
        "      src = f_type + '/' + onlyfiles[0]\n",
        "      src1 = cv.imread(src)\n",
        "      for img in onlyfiles : \n",
        "        src2 = cv.imread(f_type + '/' + img)\n",
        "        alpha = 1\n",
        "        beta = 1\n",
        "        src1 = cv.addWeighted(src1, alpha, src2, beta, 0.0)\n",
        "      if i < train_size :\n",
        "        cv.imwrite('data/train/img_' + str(i) + '_class.png',src1)\n",
        "      else :\n",
        "        cv.imwrite('data/test/img_' + str(i) + '_class.png',src1)\n",
        "    if f_type.split('/')[-1] == 'images':\n",
        "      onlyfiles = [f for f in os.listdir(f_type) if os.path.isfile(os.path.join(f_type, f))]\n",
        "      img = cv.imread(f_type + '/' + onlyfiles[0])\n",
        "      if i < train_size :\n",
        "        cv.imwrite('data/train/img_' + str(i) + '_raw.png',img)\n",
        "      else :\n",
        "        cv.imwrite('data/test/img_' + str(i) + '_raw.png',img)\n",
        "  i += 1\n",
        "!rm -rf /content/train /content/{"
      ],
      "execution_count": 4,
      "outputs": []
    },
    {
      "cell_type": "code",
      "metadata": {
        "id": "V8I5bpr_S9Lf"
      },
      "source": [
        "%%capture\n",
        "!git clone https://github.com/yuta-hi/pytorch-trainer\n",
        "!cd pytorch-trainer && python setup.py install\n",
        "!git clone https://github.com/IhabBendidi/pytorch_bayesian_unet \n",
        "!cd pytorch_bayesian_unet && pip install -r requirements.txt && python setup.py install\n",
        "!cp -r /content/data/train /content/pytorch_bayesian_unet/examples/cellular_segmentation/train\n",
        "!cp -r /content/data/test /content/pytorch_bayesian_unet/examples/cellular_segmentation/test"
      ],
      "execution_count": 5,
      "outputs": []
    },
    {
      "cell_type": "code",
      "metadata": {
        "id": "iIv_Wz_0XF_-",
        "outputId": "1a94713b-85f1-40ab-e1d1-5b277ce2553a",
        "colab": {
          "base_uri": "https://localhost:8080/"
        }
      },
      "source": [
        "!python /content/pytorch_bayesian_unet/examples/cellular_segmentation/preprocess.py"
      ],
      "execution_count": 7,
      "outputs": [
        {
          "output_type": "stream",
          "text": [
            "# train images: 467\n",
            "\r  0% 0/467 [00:00<?, ?it/s]\r 46% 216/467 [00:00<00:00, 2159.17it/s]\r 97% 454/467 [00:00<00:00, 2220.31it/s]\r100% 467/467 [00:00<00:00, 2287.19it/s]\n",
            "# train labels: 467\n",
            "100% 467/467 [00:01<00:00, 333.34it/s]\n",
            "# test images: 203\n",
            "100% 203/203 [00:00<00:00, 3071.56it/s]\n",
            "# test labels: 203\n",
            "100% 203/203 [00:00<00:00, 393.55it/s]\n"
          ],
          "name": "stdout"
        }
      ]
    },
    {
      "cell_type": "code",
      "metadata": {
        "id": "ILvfovogYCSO"
      },
      "source": [
        ""
      ],
      "execution_count": null,
      "outputs": []
    }
  ]
}
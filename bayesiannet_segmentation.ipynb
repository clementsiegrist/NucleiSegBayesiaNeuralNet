{
  "nbformat": 4,
  "nbformat_minor": 0,
  "metadata": {
    "colab": {
      "name": "Untitled5.ipynb",
      "provenance": [],
      "toc_visible": true,
      "include_colab_link": true
    },
    "kernelspec": {
      "name": "python3",
      "display_name": "Python 3"
    },
    "accelerator": "GPU"
  },
  "cells": [
    {
      "cell_type": "markdown",
      "metadata": {
        "id": "view-in-github",
        "colab_type": "text"
      },
      "source": [
        "<a href=\"https://colab.research.google.com/github/clementsiegrist/segmentation_probabilisticDL/blob/main/bayesiannet_segmentation.ipynb\" target=\"_parent\"><img src=\"https://colab.research.google.com/assets/colab-badge.svg\" alt=\"Open In Colab\"/></a>"
      ]
    },
    {
      "cell_type": "code",
      "metadata": {
        "id": "MFjCG5BmbGfz"
      },
      "source": [
        "%%capture\n",
        "!wget https://raw.githubusercontent.com/clementsiegrist/segmentation_probabilisticDL/main/requirements.txt \n",
        "!pip3 install -r requirements.txt\n",
        "!pip3 install --upgrade --force-reinstall --no-deps kaggle"
      ],
      "execution_count": 1,
      "outputs": []
    },
    {
      "cell_type": "code",
      "metadata": {
        "id": "9iHBWMhLu61E"
      },
      "source": [
        "%%capture\n",
        "!mkdir ~/.kaggle\n",
        "!touch ~/.kaggle/kaggle.json\n",
        "\n",
        "\n",
        "api_token = {\"username\":\"bendidihab\",\"key\":\"6b534264cbd90d4cc3f040b1894cb226\"}\n",
        "import json\n",
        "with open('/root/.kaggle/kaggle.json', 'w') as file:\n",
        "    json.dump(api_token, file)\n",
        "\n",
        "\n",
        "!chmod 600 ~/.kaggle/kaggle.json\n",
        "!kaggle config set -n path -v{/content}\n",
        "!kaggle competitions download -c data-science-bowl-2018\n",
        "!unzip /content/{/content}/competitions/data-science-bowl-2018/data-science-bowl-2018.zip\n",
        "!mkdir /content/train\n",
        "!mv -i /content/stage1_train.zip /content/train\n",
        "!cd /content/train && unzip /content/train/stage1_train.zip\n",
        "!mkdir /content/data && mkdir /content/data/train && mkdir /content/data/test\n",
        "!rm -rf /content/stage1_sample_submission.csv.zip /content/stage1_solution.csv.zip /content/stage1_test.zip /content/stage1_train_labels.csv.zip /content/stage2_sample_submission_final.csv.zip /content/stage2_test_final.zip"
      ],
      "execution_count": 2,
      "outputs": []
    },
    {
      "cell_type": "code",
      "metadata": {
        "id": "49qc-SCGM2sd"
      },
      "source": [
        "import cv2 as cv\n",
        "import os\n",
        "import numpy as np\n",
        "from google.colab.patches import cv2_imshow"
      ],
      "execution_count": 3,
      "outputs": []
    },
    {
      "cell_type": "code",
      "metadata": {
        "id": "77Y6PTQVPDnt"
      },
      "source": [
        "i = 1\n",
        "train_percent = 0.7\n",
        "data_size = 670\n",
        "dim = (640,480)\n",
        "path = '/content/train'\n",
        "list_subfolders_with_paths = [f.path for f in os.scandir(path) if f.is_dir()]\n",
        "train_size = int(data_size*train_percent)\n",
        "test_size = data_size - train_size\n",
        "for sub in list_subfolders_with_paths :\n",
        "  folder_types = [f.path for f in os.scandir(sub) if f.is_dir()]\n",
        "  if i < train_size : \n",
        "    os.mkdir('data/train/OP'+str(i))\n",
        "  else :\n",
        "    os.mkdir('data/test/OP'+str(i))\n",
        "  for f_type in folder_types :\n",
        "    if f_type.split('/')[-1] == 'masks': \n",
        "      onlyfiles = [f for f in os.listdir(f_type) if os.path.isfile(os.path.join(f_type, f))]\n",
        "      src = f_type + '/' + onlyfiles[0]\n",
        "      src1 = cv.imread(src)\n",
        "      for img in onlyfiles : \n",
        "        src2 = cv.imread(f_type + '/' + img)\n",
        "        alpha = 1\n",
        "        beta = 1\n",
        "        src1 = cv.addWeighted(src1, alpha, src2, beta, 0.0)\n",
        "      img = cv.resize(src1, dim, interpolation = cv.INTER_AREA)\n",
        "      if i < train_size :\n",
        "        cv.imwrite('data/train/OP'+str(i)+'/img_' + str(i) + '_class.png',img)\n",
        "      else :\n",
        "        cv.imwrite('data/test/OP'+str(i)+'/img_' + str(i) + '_class.png',img)\n",
        "    if f_type.split('/')[-1] == 'images':\n",
        "      onlyfiles = [f for f in os.listdir(f_type) if os.path.isfile(os.path.join(f_type, f))]\n",
        "      img_raw = cv.imread(f_type + '/' + onlyfiles[0])\n",
        "      img = cv.resize(img_raw, dim, interpolation = cv.INTER_AREA)\n",
        "      if i < train_size :\n",
        "        cv.imwrite('data/train/OP'+str(i)+'/img_' + str(i) + '_raw.png',img)\n",
        "      else :\n",
        "        cv.imwrite('data/test/OP'+str(i)+'/img_' + str(i) + '_raw.png',img)\n",
        "  i += 1\n",
        "!rm -rf /content/train /content/{"
      ],
      "execution_count": 4,
      "outputs": []
    },
    {
      "cell_type": "code",
      "metadata": {
        "id": "V8I5bpr_S9Lf"
      },
      "source": [
        "%%capture\n",
        "!git clone https://github.com/yuta-hi/pytorch-trainer\n",
        "!cd pytorch-trainer && python setup.py install\n",
        "!git clone https://github.com/IhabBendidi/pytorch_bayesian_unet \n",
        "!cd pytorch_bayesian_unet && pip install -r requirements.txt && python setup.py install\n",
        "\n",
        "\n",
        "!cp -r /content/data/train /content/pytorch_bayesian_unet/examples/cellular_segmentation/train\n",
        "!cp -r /content/data/test /content/pytorch_bayesian_unet/examples/cellular_segmentation/test\n"
      ],
      "execution_count": 5,
      "outputs": []
    },
    {
      "cell_type": "code",
      "metadata": {
        "colab": {
          "base_uri": "https://localhost:8080/"
        },
        "id": "iIv_Wz_0XF_-",
        "outputId": "bef4b245-7dd6-4102-bfc4-9a18a3c5e9ac"
      },
      "source": [
        "!python /content/pytorch_bayesian_unet/examples/cellular_segmentation/preprocess.py"
      ],
      "execution_count": 6,
      "outputs": [
        {
          "output_type": "stream",
          "text": [
            "# train images: 467\n",
            "100% 467/467 [00:00<00:00, 2668.57it/s]\n",
            "# train labels: 467\n",
            "100% 467/467 [00:02<00:00, 195.47it/s]\n",
            "# test images: 203\n",
            "100% 203/203 [00:00<00:00, 3048.09it/s]\n",
            "# test labels: 203\n",
            "100% 203/203 [00:01<00:00, 199.71it/s]\n"
          ],
          "name": "stdout"
        }
      ]
    },
    {
      "cell_type": "code",
      "metadata": {
        "colab": {
          "base_uri": "https://localhost:8080/"
        },
        "id": "ILvfovogYCSO",
        "outputId": "6cf2f3fc-2400-4540-dd1e-86f55df6f265"
      },
      "source": [
        "!python /content/pytorch_bayesian_unet/examples/cellular_segmentation/train_and_test_epistemic.py --iteration 3000"
      ],
      "execution_count": 7,
      "outputs": [
        {
          "output_type": "stream",
          "text": [
            "GPU: cuda:0\n",
            "# Minibatch-size: 2\n",
            "\n",
            "Collecting image files: 100%|████████████████████| 1/1 [00:00<00:00, 101.42it/s]\n",
            "Collecting label files: 100%|████████████████████| 1/1 [00:00<00:00, 117.04it/s]\n",
            "Collecting image files: 100%|████████████████████| 1/1 [00:00<00:00, 126.41it/s]\n",
            "Collecting label files: 100%|████████████████████| 1/1 [00:00<00:00, 125.67it/s]\n",
            "Collecting image files: 100%|████████████████████| 1/1 [00:00<00:00, 250.09it/s]\n",
            "Collecting label files: 100%|████████████████████| 1/1 [00:00<00:00, 259.79it/s]\n",
            "# classes: 2\n",
            "# samples:\n",
            "-- train: 421\n",
            "-- valid: 46\n",
            "iteration   main/loss   validation/main/loss  main/accuracy  validation/main/accuracy  elapsed_time\n",
            "\u001b[J0                       1.85458e+08                          0.329972                  4.48171       \n",
            "\u001b[J100         96528.3                           0.950257                                 44.7289       \n",
            "\u001b[J     total [#.................................................]  3.33%\n",
            "this epoch [#######################...........................] 47.51%\n",
            "       100 iter, 0 epoch / 3000 iterations\n",
            "       inf iters/sec. Estimated time to finish: 0:00:00.\n",
            "\u001b[J200         56652.6                           0.942982                                 90.6839       \n",
            "\u001b[J     total [###...............................................]  6.67%\n",
            "this epoch [###############################################...] 95.01%\n",
            "       200 iter, 0 epoch / 3000 iterations\n",
            "     2.176 iters/sec. Estimated time to finish: 0:21:26.739137.\n",
            "\u001b[J300         68264.6     69519.9               0.920256       0.919843                  137.719       \n",
            "\u001b[J     total [#####.............................................] 10.00%\n",
            "this epoch [#####################.............................] 42.52%\n",
            "       300 iter, 1 epoch / 3000 iterations\n",
            "    2.1401 iters/sec. Estimated time to finish: 0:21:01.595349.\n",
            "\u001b[4A\u001b[J400         27493.5                           0.976087                                 182.973       \n",
            "\u001b[J     total [######............................................] 13.33%\n",
            "this epoch [#############################################.....] 90.02%\n",
            "       400 iter, 1 epoch / 3000 iterations\n",
            "    2.1701 iters/sec. Estimated time to finish: 0:19:58.116204.\n",
            "\u001b[J500         18203.6                           0.987287                                 231.976       \n",
            "\u001b[J     total [########..........................................] 16.67%\n",
            "this epoch [##################................................] 37.53%\n",
            "       500 iter, 2 epoch / 3000 iterations\n",
            "    2.1362 iters/sec. Estimated time to finish: 0:19:30.295613.\n",
            "\u001b[J600         56641       71098                 0.918408       0.896996                  280.658       \n",
            "\u001b[J     total [##########........................................] 20.00%\n",
            "this epoch [##########################################........] 85.04%\n",
            "       600 iter, 2 epoch / 3000 iterations\n",
            "    2.1152 iters/sec. Estimated time to finish: 0:18:54.662104.\n",
            "\u001b[4A\u001b[J700         31377.6                           0.959787                                 325.69        \n",
            "\u001b[J     total [###########.......................................] 23.33%\n",
            "this epoch [################..................................] 32.54%\n",
            "       700 iter, 3 epoch / 3000 iterations\n",
            "    2.1355 iters/sec. Estimated time to finish: 0:17:57.018966.\n",
            "\u001b[J800         10263                             0.992777                                 374.955       \n",
            "\u001b[J     total [#############.....................................] 26.67%\n",
            "this epoch [########################################..........] 80.05%\n",
            "       800 iter, 3 epoch / 3000 iterations\n",
            "    2.1198 iters/sec. Estimated time to finish: 0:17:17.853524.\n",
            "\u001b[J900         36432.8     70910.8               0.954085       0.881407                  423.675       \n",
            "\u001b[J     total [###############...................................] 30.00%\n",
            "this epoch [#############.....................................] 27.55%\n",
            "       900 iter, 4 epoch / 3000 iterations\n",
            "    2.1086 iters/sec. Estimated time to finish: 0:16:35.944343.\n",
            "\u001b[4A\u001b[J1000        38477.6                           0.95033                                  468.719       \n",
            "\u001b[J     total [################..................................] 33.33%\n",
            "this epoch [#####################################.............] 75.06%\n",
            "      1000 iter, 4 epoch / 3000 iterations\n",
            "    2.1227 iters/sec. Estimated time to finish: 0:15:42.200637.\n",
            "\u001b[J1100        19203.8                           0.974513                                 517.96        \n",
            "\u001b[J     total [##################................................] 36.67%\n",
            "this epoch [###########.......................................] 22.57%\n",
            "      1100 iter, 5 epoch / 3000 iterations\n",
            "    2.1131 iters/sec. Estimated time to finish: 0:14:59.138189.\n",
            "\u001b[J1200        13784.6     56968.1               0.985247       0.91361                   566.795       \n",
            "\u001b[J     total [####################..............................] 40.00%\n",
            "this epoch [###################################...............] 70.07%\n",
            "      1200 iter, 5 epoch / 3000 iterations\n",
            "    2.1052 iters/sec. Estimated time to finish: 0:14:15.036857.\n",
            "\u001b[4A\u001b[J1300        41135.2                           0.947199                                 611.673       \n",
            "\u001b[J     total [#####################.............................] 43.33%\n",
            "this epoch [########..........................................] 17.58%\n",
            "      1300 iter, 6 epoch / 3000 iterations\n",
            "    2.1166 iters/sec. Estimated time to finish: 0:13:23.170869.\n",
            "\u001b[J1400        30349.7                           0.962977                                 661.155       \n",
            "\u001b[J     total [#######################...........................] 46.67%\n",
            "this epoch [################################..................] 65.08%\n",
            "      1400 iter, 6 epoch / 3000 iterations\n",
            "    2.1089 iters/sec. Estimated time to finish: 0:12:38.677639.\n",
            "\u001b[J1500        14123.8     48494.4               0.984486       0.939418                  710           \n",
            "\u001b[J     total [#########################.........................] 50.00%\n",
            "this epoch [######............................................] 12.59%\n",
            "      1500 iter, 7 epoch / 3000 iterations\n",
            "    2.1029 iters/sec. Estimated time to finish: 0:11:53.290602.\n",
            "\u001b[4A\u001b[J1600        28296.2                           0.959372                                 754.899       \n",
            "\u001b[J     total [##########################........................] 53.33%\n",
            "this epoch [##############################....................] 60.10%\n",
            "      1600 iter, 7 epoch / 3000 iterations\n",
            "    2.1122 iters/sec. Estimated time to finish: 0:11:02.825168.\n",
            "\u001b[J1700        63873.4                           0.91804                                  804.211       \n",
            "\u001b[J     total [############################......................] 56.67%\n",
            "this epoch [###...............................................]  7.60%\n",
            "      1700 iter, 8 epoch / 3000 iterations\n",
            "    2.1067 iters/sec. Estimated time to finish: 0:10:17.079562.\n",
            "\u001b[J1800        9775.77     52034.4               0.989661       0.944075                  852.907       \n",
            "\u001b[J     total [##############################....................] 60.00%\n",
            "this epoch [###########################.......................] 55.11%\n",
            "      1800 iter, 8 epoch / 3000 iterations\n",
            "    2.1022 iters/sec. Estimated time to finish: 0:09:30.819822.\n",
            "\u001b[4A\u001b[J1900        11406.7                           0.987109                                 897.893       \n",
            "\u001b[J     total [###############################...................] 63.33%\n",
            "this epoch [#.................................................]  2.61%\n",
            "      1900 iter, 9 epoch / 3000 iterations\n",
            "    2.1098 iters/sec. Estimated time to finish: 0:08:41.378308.\n",
            "\u001b[J2000        16926.2                           0.980881                                 947.263       \n",
            "\u001b[J     total [#################################.................] 66.67%\n",
            "this epoch [#########################.........................] 50.12%\n",
            "      2000 iter, 9 epoch / 3000 iterations\n",
            "    2.1052 iters/sec. Estimated time to finish: 0:07:55.017812.\n",
            "\u001b[J2100        15533.6     49754.4               0.983286       0.932521                  995.943       \n",
            "\u001b[J     total [###################################...............] 70.00%\n",
            "this epoch [################################################..] 97.62%\n",
            "      2100 iter, 9 epoch / 3000 iterations\n",
            "    2.1015 iters/sec. Estimated time to finish: 0:07:08.259154.\n",
            "\u001b[4A\u001b[J2200        18022.2                           0.976714                                 1041.1        \n",
            "\u001b[J     total [####################################..............] 73.33%\n",
            "this epoch [######################............................] 45.13%\n",
            "      2200 iter, 10 epoch / 3000 iterations\n",
            "    2.1077 iters/sec. Estimated time to finish: 0:06:19.569227.\n",
            "\u001b[J2300        27212.3                           0.96273                                  1090.51       \n",
            "\u001b[J     total [######################################............] 76.67%\n",
            "this epoch [##############################################....] 92.64%\n",
            "      2300 iter, 10 epoch / 3000 iterations\n",
            "    2.1037 iters/sec. Estimated time to finish: 0:05:32.748420.\n",
            "\u001b[J2400        10280.6     99169.9               0.988101       0.842749                  1139.24       \n",
            "\u001b[J     total [########################################..........] 80.00%\n",
            "this epoch [####################..............................] 40.14%\n",
            "      2400 iter, 11 epoch / 3000 iterations\n",
            "    2.1005 iters/sec. Estimated time to finish: 0:04:45.640150.\n",
            "\u001b[4A\u001b[J2500        25855.4                           0.964681                                 1184.29       \n",
            "\u001b[J     total [#########################################.........] 83.33%\n",
            "this epoch [###########################################.......] 87.65%\n",
            "      2500 iter, 11 epoch / 3000 iterations\n",
            "    2.1061 iters/sec. Estimated time to finish: 0:03:57.408638.\n",
            "\u001b[J2600        3051.79                           0.997845                                 1233.62       \n",
            "\u001b[J     total [###########################################.......] 86.67%\n",
            "this epoch [#################.................................] 35.15%\n",
            "      2600 iter, 12 epoch / 3000 iterations\n",
            "    2.1028 iters/sec. Estimated time to finish: 0:03:10.221906.\n",
            "\u001b[J2700        6649.25     58000.2               0.992782       0.942638                  1282.22       \n",
            "\u001b[J     total [#############################################.....] 90.00%\n",
            "this epoch [#########################################.........] 82.66%\n",
            "      2700 iter, 12 epoch / 3000 iterations\n",
            "    2.1003 iters/sec. Estimated time to finish: 0:02:22.839520.\n",
            "\u001b[4A\u001b[J2800        12241.4                           0.985251                                 1327.18       \n",
            "\u001b[J     total [##############################################....] 93.33%\n",
            "this epoch [###############...................................] 30.17%\n",
            "      2800 iter, 13 epoch / 3000 iterations\n",
            "    2.1053 iters/sec. Estimated time to finish: 0:01:34.996509.\n",
            "\u001b[J2900        20114.3                           0.973049                                 1376.29       \n",
            "\u001b[J     total [################################################..] 96.67%\n",
            "this epoch [######################################............] 77.67%\n",
            "      2900 iter, 13 epoch / 3000 iterations\n",
            "    2.1028 iters/sec. Estimated time to finish: 0:00:47.555614.\n",
            "\u001b[J3000        29671.5     46301.8               0.96144        0.930351                  1425.09       \n",
            "\u001b[J     total [##################################################] 100.00%\n",
            "this epoch [############......................................] 25.18%\n",
            "      3000 iter, 14 epoch / 3000 iterations\n",
            "    2.1001 iters/sec. Estimated time to finish: 0:00:00.\n",
            "\u001b[4A\u001b[J"
          ],
          "name": "stdout"
        }
      ]
    },
    {
      "cell_type": "code",
      "metadata": {
        "colab": {
          "base_uri": "https://localhost:8080/"
        },
        "id": "f5okwP67roPF",
        "outputId": "6bf8597f-a925-49b5-9b4d-f51123bebef7"
      },
      "source": [
        "!python /content/pytorch_bayesian_unet/examples/cellular_segmentation/train_and_test_epistemic.py --test_on_test"
      ],
      "execution_count": 8,
      "outputs": [
        {
          "output_type": "stream",
          "text": [
            "GPU: cuda:0\n",
            "# Minibatch-size: 2\n",
            "\n",
            "\rCollecting image files:   0%|                             | 0/1 [00:00<?, ?it/s]\rCollecting image files: 100%|████████████████████| 1/1 [00:00<00:00, 126.54it/s]\n",
            "\rCollecting label files:   0%|                             | 0/1 [00:00<?, ?it/s]\rCollecting label files: 100%|████████████████████| 1/1 [00:00<00:00, 131.04it/s]\n",
            "\rCollecting image files:   0%|                             | 0/1 [00:00<?, ?it/s]\rCollecting image files: 100%|████████████████████| 1/1 [00:00<00:00, 140.38it/s]\n",
            "\rCollecting label files:   0%|                             | 0/1 [00:00<?, ?it/s]\rCollecting label files: 100%|████████████████████| 1/1 [00:00<00:00, 144.90it/s]\n",
            "\rCollecting image files:   0%|                             | 0/1 [00:00<?, ?it/s]\rCollecting image files: 100%|████████████████████| 1/1 [00:00<00:00, 291.51it/s]\n",
            "\rCollecting label files:   0%|                             | 0/1 [00:00<?, ?it/s]\rCollecting label files: 100%|████████████████████| 1/1 [00:00<00:00, 302.29it/s]\n",
            "# samples:\n",
            "-- test: 203\n",
            "Loaded a snapshot: logs/predictor_iter_00003000.pth\n"
          ],
          "name": "stdout"
        }
      ]
    },
    {
      "cell_type": "code",
      "metadata": {
        "id": "b4OOWKbkMpnA"
      },
      "source": [
        ""
      ],
      "execution_count": null,
      "outputs": []
    }
  ]
}
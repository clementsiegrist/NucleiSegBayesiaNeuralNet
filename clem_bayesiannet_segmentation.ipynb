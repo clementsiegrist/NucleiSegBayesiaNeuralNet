{
  "nbformat": 4,
  "nbformat_minor": 0,
  "metadata": {
    "colab": {
      "name": "Untitled5.ipynb",
      "provenance": [],
      "authorship_tag": "ABX9TyPuwVyashV6tQ3dS2zI+IQi",
      "include_colab_link": true
    },
    "kernelspec": {
      "name": "python3",
      "display_name": "Python 3"
    },
    "accelerator": "GPU"
  },
  "cells": [
    {
      "cell_type": "markdown",
      "metadata": {
        "id": "view-in-github",
        "colab_type": "text"
      },
      "source": [
        "<a href=\"https://colab.research.google.com/github/clementsiegrist/segmentation_probabilisticDL/blob/main/clem_bayesiannet_segmentation.ipynb\" target=\"_parent\"><img src=\"https://colab.research.google.com/assets/colab-badge.svg\" alt=\"Open In Colab\"/></a>"
      ]
    },
    {
      "cell_type": "code",
      "metadata": {
        "colab": {
          "base_uri": "https://localhost:8080/"
        },
        "id": "AHrWL9lLlbUj",
        "outputId": "c5e0f32a-e5fd-402b-898a-43ac26fc7f04"
      },
      "source": [
        "pip install keras opencv-python tensorflow scikit-learn scikit-image numpy pillow matplotlib imutils"
      ],
      "execution_count": 1,
      "outputs": [
        {
          "output_type": "stream",
          "text": [
            "Requirement already satisfied: keras in /usr/local/lib/python3.6/dist-packages (2.4.3)\n",
            "Requirement already satisfied: opencv-python in /usr/local/lib/python3.6/dist-packages (4.1.2.30)\n",
            "Requirement already satisfied: tensorflow in /usr/local/lib/python3.6/dist-packages (2.4.0)\n",
            "Requirement already satisfied: scikit-learn in /usr/local/lib/python3.6/dist-packages (0.22.2.post1)\n",
            "Requirement already satisfied: scikit-image in /usr/local/lib/python3.6/dist-packages (0.16.2)\n",
            "Requirement already satisfied: numpy in /usr/local/lib/python3.6/dist-packages (1.19.5)\n",
            "Requirement already satisfied: pillow in /usr/local/lib/python3.6/dist-packages (7.0.0)\n",
            "Requirement already satisfied: matplotlib in /usr/local/lib/python3.6/dist-packages (3.2.2)\n",
            "Requirement already satisfied: imutils in /usr/local/lib/python3.6/dist-packages (0.5.3)\n",
            "Requirement already satisfied: pyyaml in /usr/local/lib/python3.6/dist-packages (from keras) (3.13)\n",
            "Requirement already satisfied: h5py in /usr/local/lib/python3.6/dist-packages (from keras) (2.10.0)\n",
            "Requirement already satisfied: scipy>=0.14 in /usr/local/lib/python3.6/dist-packages (from keras) (1.4.1)\n",
            "Requirement already satisfied: absl-py~=0.10 in /usr/local/lib/python3.6/dist-packages (from tensorflow) (0.10.0)\n",
            "Requirement already satisfied: typing-extensions~=3.7.4 in /usr/local/lib/python3.6/dist-packages (from tensorflow) (3.7.4.3)\n",
            "Requirement already satisfied: grpcio~=1.32.0 in /usr/local/lib/python3.6/dist-packages (from tensorflow) (1.32.0)\n",
            "Requirement already satisfied: six~=1.15.0 in /usr/local/lib/python3.6/dist-packages (from tensorflow) (1.15.0)\n",
            "Requirement already satisfied: flatbuffers~=1.12.0 in /usr/local/lib/python3.6/dist-packages (from tensorflow) (1.12)\n",
            "Requirement already satisfied: astunparse~=1.6.3 in /usr/local/lib/python3.6/dist-packages (from tensorflow) (1.6.3)\n",
            "Requirement already satisfied: termcolor~=1.1.0 in /usr/local/lib/python3.6/dist-packages (from tensorflow) (1.1.0)\n",
            "Requirement already satisfied: wheel~=0.35 in /usr/local/lib/python3.6/dist-packages (from tensorflow) (0.36.2)\n",
            "Requirement already satisfied: gast==0.3.3 in /usr/local/lib/python3.6/dist-packages (from tensorflow) (0.3.3)\n",
            "Requirement already satisfied: tensorboard~=2.4 in /usr/local/lib/python3.6/dist-packages (from tensorflow) (2.4.0)\n",
            "Requirement already satisfied: wrapt~=1.12.1 in /usr/local/lib/python3.6/dist-packages (from tensorflow) (1.12.1)\n",
            "Requirement already satisfied: opt-einsum~=3.3.0 in /usr/local/lib/python3.6/dist-packages (from tensorflow) (3.3.0)\n",
            "Requirement already satisfied: tensorflow-estimator<2.5.0,>=2.4.0rc0 in /usr/local/lib/python3.6/dist-packages (from tensorflow) (2.4.0)\n",
            "Requirement already satisfied: keras-preprocessing~=1.1.2 in /usr/local/lib/python3.6/dist-packages (from tensorflow) (1.1.2)\n",
            "Requirement already satisfied: protobuf>=3.9.2 in /usr/local/lib/python3.6/dist-packages (from tensorflow) (3.12.4)\n",
            "Requirement already satisfied: google-pasta~=0.2 in /usr/local/lib/python3.6/dist-packages (from tensorflow) (0.2.0)\n",
            "Requirement already satisfied: joblib>=0.11 in /usr/local/lib/python3.6/dist-packages (from scikit-learn) (1.0.0)\n",
            "Requirement already satisfied: imageio>=2.3.0 in /usr/local/lib/python3.6/dist-packages (from scikit-image) (2.4.1)\n",
            "Requirement already satisfied: networkx>=2.0 in /usr/local/lib/python3.6/dist-packages (from scikit-image) (2.5)\n",
            "Requirement already satisfied: PyWavelets>=0.4.0 in /usr/local/lib/python3.6/dist-packages (from scikit-image) (1.1.1)\n",
            "Requirement already satisfied: pyparsing!=2.0.4,!=2.1.2,!=2.1.6,>=2.0.1 in /usr/local/lib/python3.6/dist-packages (from matplotlib) (2.4.7)\n",
            "Requirement already satisfied: cycler>=0.10 in /usr/local/lib/python3.6/dist-packages (from matplotlib) (0.10.0)\n",
            "Requirement already satisfied: kiwisolver>=1.0.1 in /usr/local/lib/python3.6/dist-packages (from matplotlib) (1.3.1)\n",
            "Requirement already satisfied: python-dateutil>=2.1 in /usr/local/lib/python3.6/dist-packages (from matplotlib) (2.8.1)\n",
            "Requirement already satisfied: google-auth-oauthlib<0.5,>=0.4.1 in /usr/local/lib/python3.6/dist-packages (from tensorboard~=2.4->tensorflow) (0.4.2)\n",
            "Requirement already satisfied: google-auth<2,>=1.6.3 in /usr/local/lib/python3.6/dist-packages (from tensorboard~=2.4->tensorflow) (1.17.2)\n",
            "Requirement already satisfied: markdown>=2.6.8 in /usr/local/lib/python3.6/dist-packages (from tensorboard~=2.4->tensorflow) (3.3.3)\n",
            "Requirement already satisfied: requests<3,>=2.21.0 in /usr/local/lib/python3.6/dist-packages (from tensorboard~=2.4->tensorflow) (2.23.0)\n",
            "Requirement already satisfied: tensorboard-plugin-wit>=1.6.0 in /usr/local/lib/python3.6/dist-packages (from tensorboard~=2.4->tensorflow) (1.7.0)\n",
            "Requirement already satisfied: setuptools>=41.0.0 in /usr/local/lib/python3.6/dist-packages (from tensorboard~=2.4->tensorflow) (51.1.1)\n",
            "Requirement already satisfied: werkzeug>=0.11.15 in /usr/local/lib/python3.6/dist-packages (from tensorboard~=2.4->tensorflow) (1.0.1)\n",
            "Requirement already satisfied: decorator>=4.3.0 in /usr/local/lib/python3.6/dist-packages (from networkx>=2.0->scikit-image) (4.4.2)\n",
            "Requirement already satisfied: requests-oauthlib>=0.7.0 in /usr/local/lib/python3.6/dist-packages (from google-auth-oauthlib<0.5,>=0.4.1->tensorboard~=2.4->tensorflow) (1.3.0)\n",
            "Requirement already satisfied: pyasn1-modules>=0.2.1 in /usr/local/lib/python3.6/dist-packages (from google-auth<2,>=1.6.3->tensorboard~=2.4->tensorflow) (0.2.8)\n",
            "Requirement already satisfied: rsa<5,>=3.1.4; python_version >= \"3\" in /usr/local/lib/python3.6/dist-packages (from google-auth<2,>=1.6.3->tensorboard~=2.4->tensorflow) (4.6)\n",
            "Requirement already satisfied: cachetools<5.0,>=2.0.0 in /usr/local/lib/python3.6/dist-packages (from google-auth<2,>=1.6.3->tensorboard~=2.4->tensorflow) (4.2.0)\n",
            "Requirement already satisfied: importlib-metadata; python_version < \"3.8\" in /usr/local/lib/python3.6/dist-packages (from markdown>=2.6.8->tensorboard~=2.4->tensorflow) (3.3.0)\n",
            "Requirement already satisfied: idna<3,>=2.5 in /usr/local/lib/python3.6/dist-packages (from requests<3,>=2.21.0->tensorboard~=2.4->tensorflow) (2.10)\n",
            "Requirement already satisfied: chardet<4,>=3.0.2 in /usr/local/lib/python3.6/dist-packages (from requests<3,>=2.21.0->tensorboard~=2.4->tensorflow) (3.0.4)\n",
            "Requirement already satisfied: urllib3!=1.25.0,!=1.25.1,<1.26,>=1.21.1 in /usr/local/lib/python3.6/dist-packages (from requests<3,>=2.21.0->tensorboard~=2.4->tensorflow) (1.24.3)\n",
            "Requirement already satisfied: certifi>=2017.4.17 in /usr/local/lib/python3.6/dist-packages (from requests<3,>=2.21.0->tensorboard~=2.4->tensorflow) (2020.12.5)\n",
            "Requirement already satisfied: oauthlib>=3.0.0 in /usr/local/lib/python3.6/dist-packages (from requests-oauthlib>=0.7.0->google-auth-oauthlib<0.5,>=0.4.1->tensorboard~=2.4->tensorflow) (3.1.0)\n",
            "Requirement already satisfied: pyasn1<0.5.0,>=0.4.6 in /usr/local/lib/python3.6/dist-packages (from pyasn1-modules>=0.2.1->google-auth<2,>=1.6.3->tensorboard~=2.4->tensorflow) (0.4.8)\n",
            "Requirement already satisfied: zipp>=0.5 in /usr/local/lib/python3.6/dist-packages (from importlib-metadata; python_version < \"3.8\"->markdown>=2.6.8->tensorboard~=2.4->tensorflow) (3.4.0)\n"
          ],
          "name": "stdout"
        }
      ]
    },
    {
      "cell_type": "code",
      "metadata": {
        "id": "IAKg_9celkeI",
        "colab": {
          "base_uri": "https://localhost:8080/"
        },
        "outputId": "4953230d-20f9-4929-f6cc-0541955548be"
      },
      "source": [
        "from google.colab import drive\n",
        "drive.mount('/content/drive', force_remount=True)"
      ],
      "execution_count": 1,
      "outputs": [
        {
          "output_type": "stream",
          "text": [
            "Mounted at /content/drive\n"
          ],
          "name": "stdout"
        }
      ]
    },
    {
      "cell_type": "code",
      "metadata": {
        "colab": {
          "base_uri": "https://localhost:8080/"
        },
        "id": "A0eje3gVMDzF",
        "outputId": "05b73090-c65f-421f-b3ce-9a8c1fe2ff4c"
      },
      "source": [
        "!git clone https://github.com/sandialabs/bcnn"
      ],
      "execution_count": 2,
      "outputs": [
        {
          "output_type": "stream",
          "text": [
            "Cloning into 'bcnn'...\n",
            "remote: Enumerating objects: 117, done.\u001b[K\n",
            "remote: Counting objects: 100% (117/117), done.\u001b[K\n",
            "remote: Compressing objects: 100% (78/78), done.\u001b[K\n",
            "remote: Total 117 (delta 63), reused 67 (delta 31), pack-reused 0\u001b[K\n",
            "Receiving objects: 100% (117/117), 743.27 KiB | 14.57 MiB/s, done.\n",
            "Resolving deltas: 100% (63/63), done.\n"
          ],
          "name": "stdout"
        }
      ]
    },
    {
      "cell_type": "code",
      "metadata": {
        "colab": {
          "base_uri": "https://localhost:8080/",
          "height": 1000
        },
        "id": "Gfn86FXxNCc8",
        "outputId": "86821446-a483-4b24-946d-2d7d1924e251"
      },
      "source": [
        "!pip install tensorflow-gpu==1.12.0 tensorflow-probability==0.5.0 matplotlib==3.1.0 colorcet==2.0.1 brokenaxes==0.3.1 sacred==0.7.5 pymongo==3.8.0"
      ],
      "execution_count": 6,
      "outputs": [
        {
          "output_type": "stream",
          "text": [
            "Collecting tensorflow-gpu==1.12.0\n",
            "\u001b[?25l  Downloading https://files.pythonhosted.org/packages/55/7e/bec4d62e9dc95e828922c6cec38acd9461af8abe749f7c9def25ec4b2fdb/tensorflow_gpu-1.12.0-cp36-cp36m-manylinux1_x86_64.whl (281.7MB)\n",
            "\u001b[K     |████████████████████████████████| 281.7MB 56kB/s \n",
            "\u001b[?25hCollecting tensorflow-probability==0.5.0\n",
            "\u001b[?25l  Downloading https://files.pythonhosted.org/packages/a1/ca/6f213618b5f7d0bf6139e6ec928d412a5ca14e4776adfd41a59c74a34021/tensorflow_probability-0.5.0-py2.py3-none-any.whl (680kB)\n",
            "\u001b[K     |████████████████████████████████| 686kB 54.7MB/s \n",
            "\u001b[?25hCollecting matplotlib==3.1.0\n",
            "\u001b[?25l  Downloading https://files.pythonhosted.org/packages/da/83/d989ee20c78117c737ab40e0318ea221f1aed4e3f5a40b4f93541b369b93/matplotlib-3.1.0-cp36-cp36m-manylinux1_x86_64.whl (13.1MB)\n",
            "\u001b[K     |████████████████████████████████| 13.1MB 259kB/s \n",
            "\u001b[?25hCollecting colorcet==2.0.1\n",
            "\u001b[?25l  Downloading https://files.pythonhosted.org/packages/03/0c/e312b282b0ee08a34c7a5ce703eed988502149be8c90c3b3b79e97e37284/colorcet-2.0.1-py2.py3-none-any.whl (1.6MB)\n",
            "\u001b[K     |████████████████████████████████| 1.6MB 54.8MB/s \n",
            "\u001b[?25hCollecting brokenaxes==0.3.1\n",
            "  Downloading https://files.pythonhosted.org/packages/c5/41/0a8839699a98387d63d027909626920df7a7d6634d2a0a3bc1096626954c/brokenaxes-0.3.1.tar.gz\n",
            "Collecting sacred==0.7.5\n",
            "\u001b[?25l  Downloading https://files.pythonhosted.org/packages/6c/89/bd8a71138906b146eea621505236f8704a3eeab2b9668aad77691b93fdb8/sacred-0.7.5-py2.py3-none-any.whl (92kB)\n",
            "\u001b[K     |████████████████████████████████| 102kB 13.0MB/s \n",
            "\u001b[?25hCollecting pymongo==3.8.0\n",
            "\u001b[?25l  Downloading https://files.pythonhosted.org/packages/fb/4a/586826433281ca285f0201235fccf63cc29a30fa78bcd72b6a34e365972d/pymongo-3.8.0-cp36-cp36m-manylinux1_x86_64.whl (416kB)\n",
            "\u001b[K     |████████████████████████████████| 419kB 54.4MB/s \n",
            "\u001b[?25hRequirement already satisfied: grpcio>=1.8.6 in /usr/local/lib/python3.6/dist-packages (from tensorflow-gpu==1.12.0) (1.32.0)\n",
            "Requirement already satisfied: protobuf>=3.6.1 in /usr/local/lib/python3.6/dist-packages (from tensorflow-gpu==1.12.0) (3.12.4)\n",
            "Collecting tensorboard<1.13.0,>=1.12.0\n",
            "\u001b[?25l  Downloading https://files.pythonhosted.org/packages/07/53/8d32ce9471c18f8d99028b7cef2e5b39ea8765bd7ef250ca05b490880971/tensorboard-1.12.2-py3-none-any.whl (3.0MB)\n",
            "\u001b[K     |████████████████████████████████| 3.1MB 46.8MB/s \n",
            "\u001b[?25hRequirement already satisfied: termcolor>=1.1.0 in /usr/local/lib/python3.6/dist-packages (from tensorflow-gpu==1.12.0) (1.1.0)\n",
            "Requirement already satisfied: wheel>=0.26 in /usr/local/lib/python3.6/dist-packages (from tensorflow-gpu==1.12.0) (0.36.2)\n",
            "Requirement already satisfied: astor>=0.6.0 in /usr/local/lib/python3.6/dist-packages (from tensorflow-gpu==1.12.0) (0.8.1)\n",
            "Requirement already satisfied: gast>=0.2.0 in /usr/local/lib/python3.6/dist-packages (from tensorflow-gpu==1.12.0) (0.3.3)\n",
            "Requirement already satisfied: absl-py>=0.1.6 in /usr/local/lib/python3.6/dist-packages (from tensorflow-gpu==1.12.0) (0.10.0)\n",
            "Requirement already satisfied: numpy>=1.13.3 in /usr/local/lib/python3.6/dist-packages (from tensorflow-gpu==1.12.0) (1.19.5)\n",
            "Requirement already satisfied: six>=1.10.0 in /usr/local/lib/python3.6/dist-packages (from tensorflow-gpu==1.12.0) (1.15.0)\n",
            "Collecting keras-applications>=1.0.6\n",
            "\u001b[?25l  Downloading https://files.pythonhosted.org/packages/71/e3/19762fdfc62877ae9102edf6342d71b28fbfd9dea3d2f96a882ce099b03f/Keras_Applications-1.0.8-py3-none-any.whl (50kB)\n",
            "\u001b[K     |████████████████████████████████| 51kB 6.7MB/s \n",
            "\u001b[?25hRequirement already satisfied: keras-preprocessing>=1.0.5 in /usr/local/lib/python3.6/dist-packages (from tensorflow-gpu==1.12.0) (1.1.2)\n",
            "Requirement already satisfied: cycler>=0.10 in /usr/local/lib/python3.6/dist-packages (from matplotlib==3.1.0) (0.10.0)\n",
            "Requirement already satisfied: kiwisolver>=1.0.1 in /usr/local/lib/python3.6/dist-packages (from matplotlib==3.1.0) (1.3.1)\n",
            "Requirement already satisfied: python-dateutil>=2.1 in /usr/local/lib/python3.6/dist-packages (from matplotlib==3.1.0) (2.8.1)\n",
            "Requirement already satisfied: pyparsing!=2.0.4,!=2.1.2,!=2.1.6,>=2.0.1 in /usr/local/lib/python3.6/dist-packages (from matplotlib==3.1.0) (2.4.7)\n",
            "Requirement already satisfied: param>=1.7.0 in /usr/local/lib/python3.6/dist-packages (from colorcet==2.0.1) (1.10.1)\n",
            "Requirement already satisfied: pyct>=0.4.4 in /usr/local/lib/python3.6/dist-packages (from colorcet==2.0.1) (0.4.8)\n",
            "Requirement already satisfied: wrapt<2.0,>=1.0 in /usr/local/lib/python3.6/dist-packages (from sacred==0.7.5) (1.12.1)\n",
            "Collecting munch<3.0,>=2.0.2\n",
            "  Downloading https://files.pythonhosted.org/packages/cc/ab/85d8da5c9a45e072301beb37ad7f833cd344e04c817d97e0cc75681d248f/munch-2.5.0-py2.py3-none-any.whl\n",
            "Requirement already satisfied: docopt<1.0,>=0.3 in /usr/local/lib/python3.6/dist-packages (from sacred==0.7.5) (0.6.2)\n",
            "Collecting colorama>=0.4\n",
            "  Downloading https://files.pythonhosted.org/packages/44/98/5b86278fbbf250d239ae0ecb724f8572af1c91f4a11edf4d36a206189440/colorama-0.4.4-py2.py3-none-any.whl\n",
            "Collecting jsonpickle<1.0,>=0.7.2\n",
            "\u001b[?25l  Downloading https://files.pythonhosted.org/packages/32/d5/2f47f03d3f64c31b0d7070b488274631d7567c36e81a9f744e6638bb0f0d/jsonpickle-0.9.6.tar.gz (67kB)\n",
            "\u001b[K     |████████████████████████████████| 71kB 11.6MB/s \n",
            "\u001b[?25hCollecting py-cpuinfo>=4.0\n",
            "\u001b[?25l  Downloading https://files.pythonhosted.org/packages/f6/f5/8e6e85ce2e9f6e05040cf0d4e26f43a4718bcc4bce988b433276d4b1a5c1/py-cpuinfo-7.0.0.tar.gz (95kB)\n",
            "\u001b[K     |████████████████████████████████| 102kB 12.7MB/s \n",
            "\u001b[?25hRequirement already satisfied: packaging>=18.0 in /usr/local/lib/python3.6/dist-packages (from sacred==0.7.5) (20.8)\n",
            "Requirement already satisfied: setuptools in /usr/local/lib/python3.6/dist-packages (from protobuf>=3.6.1->tensorflow-gpu==1.12.0) (51.1.1)\n",
            "Requirement already satisfied: werkzeug>=0.11.10 in /usr/local/lib/python3.6/dist-packages (from tensorboard<1.13.0,>=1.12.0->tensorflow-gpu==1.12.0) (1.0.1)\n",
            "Requirement already satisfied: markdown>=2.6.8 in /usr/local/lib/python3.6/dist-packages (from tensorboard<1.13.0,>=1.12.0->tensorflow-gpu==1.12.0) (3.3.3)\n",
            "Requirement already satisfied: h5py in /usr/local/lib/python3.6/dist-packages (from keras-applications>=1.0.6->tensorflow-gpu==1.12.0) (2.10.0)\n",
            "Requirement already satisfied: importlib-metadata; python_version < \"3.8\" in /usr/local/lib/python3.6/dist-packages (from markdown>=2.6.8->tensorboard<1.13.0,>=1.12.0->tensorflow-gpu==1.12.0) (3.3.0)\n",
            "Requirement already satisfied: typing-extensions>=3.6.4; python_version < \"3.8\" in /usr/local/lib/python3.6/dist-packages (from importlib-metadata; python_version < \"3.8\"->markdown>=2.6.8->tensorboard<1.13.0,>=1.12.0->tensorflow-gpu==1.12.0) (3.7.4.3)\n",
            "Requirement already satisfied: zipp>=0.5 in /usr/local/lib/python3.6/dist-packages (from importlib-metadata; python_version < \"3.8\"->markdown>=2.6.8->tensorboard<1.13.0,>=1.12.0->tensorflow-gpu==1.12.0) (3.4.0)\n",
            "Building wheels for collected packages: brokenaxes, jsonpickle, py-cpuinfo\n",
            "  Building wheel for brokenaxes (setup.py) ... \u001b[?25l\u001b[?25hdone\n",
            "  Created wheel for brokenaxes: filename=brokenaxes-0.3.1-cp36-none-any.whl size=4846 sha256=55b8705c49bfb5f09e7fa919ec28e50867310e04e5e552ecfdb423fbefe889de\n",
            "  Stored in directory: /root/.cache/pip/wheels/46/df/12/5b119337c272bbeda8483d0ada967f95f17e214fffc8f5134d\n",
            "  Building wheel for jsonpickle (setup.py) ... \u001b[?25l\u001b[?25hdone\n",
            "  Created wheel for jsonpickle: filename=jsonpickle-0.9.6-cp36-none-any.whl size=29464 sha256=cc901cd4ebe0e78ada80a4e1308a0d7e630cf0dc9b96cfa9c0e2036b3cc5b03c\n",
            "  Stored in directory: /root/.cache/pip/wheels/07/8b/41/8ce98f4737a9ff61b1bf2673f2abfe66a6a43ad6e91d2c9736\n",
            "  Building wheel for py-cpuinfo (setup.py) ... \u001b[?25l\u001b[?25hdone\n",
            "  Created wheel for py-cpuinfo: filename=py_cpuinfo-7.0.0-cp36-none-any.whl size=20072 sha256=68f0d23975320fac60fbb0f5331717b296c078e8e741757a001f69d330bb27b3\n",
            "  Stored in directory: /root/.cache/pip/wheels/f1/93/7b/127daf0c3a5a49feb2fecd468d508067c733fba5192f726ad1\n",
            "Successfully built brokenaxes jsonpickle py-cpuinfo\n",
            "\u001b[31mERROR: tensorflow 2.4.0 has requirement tensorboard~=2.4, but you'll have tensorboard 1.12.2 which is incompatible.\u001b[0m\n",
            "\u001b[31mERROR: plotnine 0.6.0 has requirement matplotlib>=3.1.1, but you'll have matplotlib 3.1.0 which is incompatible.\u001b[0m\n",
            "\u001b[31mERROR: mizani 0.6.0 has requirement matplotlib>=3.1.1, but you'll have matplotlib 3.1.0 which is incompatible.\u001b[0m\n",
            "\u001b[31mERROR: albumentations 0.1.12 has requirement imgaug<0.2.7,>=0.2.5, but you'll have imgaug 0.2.9 which is incompatible.\u001b[0m\n",
            "Installing collected packages: tensorboard, keras-applications, tensorflow-gpu, tensorflow-probability, matplotlib, colorcet, brokenaxes, munch, colorama, jsonpickle, py-cpuinfo, sacred, pymongo\n",
            "  Found existing installation: tensorboard 2.4.0\n",
            "    Uninstalling tensorboard-2.4.0:\n",
            "      Successfully uninstalled tensorboard-2.4.0\n",
            "  Found existing installation: tensorflow-probability 0.12.1\n",
            "    Uninstalling tensorflow-probability-0.12.1:\n",
            "      Successfully uninstalled tensorflow-probability-0.12.1\n",
            "  Found existing installation: matplotlib 3.2.2\n",
            "    Uninstalling matplotlib-3.2.2:\n",
            "      Successfully uninstalled matplotlib-3.2.2\n",
            "  Found existing installation: pymongo 3.11.2\n",
            "    Uninstalling pymongo-3.11.2:\n",
            "      Successfully uninstalled pymongo-3.11.2\n",
            "Successfully installed brokenaxes-0.3.1 colorama-0.4.4 colorcet-2.0.1 jsonpickle-0.9.6 keras-applications-1.0.8 matplotlib-3.1.0 munch-2.5.0 py-cpuinfo-7.0.0 pymongo-3.8.0 sacred-0.7.5 tensorboard-1.12.2 tensorflow-gpu-1.12.0 tensorflow-probability-0.5.0\n"
          ],
          "name": "stdout"
        },
        {
          "output_type": "display_data",
          "data": {
            "application/vnd.colab-display-data+json": {
              "pip_warning": {
                "packages": [
                  "matplotlib",
                  "mpl_toolkits"
                ]
              }
            }
          },
          "metadata": {
            "tags": []
          }
        }
      ]
    },
    {
      "cell_type": "code",
      "metadata": {
        "colab": {
          "base_uri": "https://localhost:8080/"
        },
        "id": "A1hUvWAlPTer",
        "outputId": "234f1765-bfcc-4769-c2af-0a4fe0f96f2b"
      },
      "source": [
        "%cd /content/bcnn/"
      ],
      "execution_count": 7,
      "outputs": [
        {
          "output_type": "stream",
          "text": [
            "/content/bcnn\n"
          ],
          "name": "stdout"
        }
      ]
    },
    {
      "cell_type": "code",
      "metadata": {
        "colab": {
          "base_uri": "https://localhost:8080/"
        },
        "id": "T64XJG-SPb33",
        "outputId": "7fe94b34-da05-4bc2-8329-d2444d1f40e6"
      },
      "source": [
        "! ls"
      ],
      "execution_count": 8,
      "outputs": [
        {
          "output_type": "stream",
          "text": [
            "bayesian_unet.py  dropout_unet.py\tLICENSE    requirements.txt   train.py\n",
            "bayesian_vnet.py  dropout_vnet.py\tmodel.py   stats.py\t      unc.PNG\n",
            "configs\t\t  generate_toy_data.py\tpavpu.py   test.py\t      utils.py\n",
            "dataset.py\t  groupnorm.py\t\tREADME.md  toy_train_test.sh\n"
          ],
          "name": "stdout"
        }
      ]
    },
    {
      "cell_type": "code",
      "metadata": {
        "colab": {
          "base_uri": "https://localhost:8080/"
        },
        "id": "M6rOzTOJ6DqH",
        "outputId": "f4033393-fd65-4b96-f7a3-9cfdf179789d"
      },
      "source": [
        "import skimage.io\n",
        "import numpy as np\n",
        "path = '/content/drive/MyDrive/Colab Notebooks/cells/test/masks/*0.png'\n",
        "img_ = skimage.io.imread(path)\n",
        "print(np.unique(img_))"
      ],
      "execution_count": 51,
      "outputs": [
        {
          "output_type": "stream",
          "text": [
            "[  0 255]\n"
          ],
          "name": "stdout"
        }
      ]
    },
    {
      "cell_type": "code",
      "metadata": {
        "colab": {
          "base_uri": "https://localhost:8080/",
          "height": 254
        },
        "id": "9W3GIQ110LPF",
        "outputId": "a30bae52-1814-427e-d710-158800708245"
      },
      "source": [
        "import os\n",
        "path = '/content/weights/bayesian'\n",
        "for i in os.listdir(path):\n",
        "  os.remove(os.path.join(path, i))"
      ],
      "execution_count": 64,
      "outputs": [
        {
          "output_type": "error",
          "ename": "IsADirectoryError",
          "evalue": "ignored",
          "traceback": [
            "\u001b[0;31m---------------------------------------------------------------------------\u001b[0m",
            "\u001b[0;31mIsADirectoryError\u001b[0m                         Traceback (most recent call last)",
            "\u001b[0;32m<ipython-input-64-e1b6b31eb422>\u001b[0m in \u001b[0;36m<module>\u001b[0;34m()\u001b[0m\n\u001b[1;32m      2\u001b[0m \u001b[0mpath\u001b[0m \u001b[0;34m=\u001b[0m \u001b[0;34m'/content/weights/bayesian'\u001b[0m\u001b[0;34m\u001b[0m\u001b[0;34m\u001b[0m\u001b[0m\n\u001b[1;32m      3\u001b[0m \u001b[0;32mfor\u001b[0m \u001b[0mi\u001b[0m \u001b[0;32min\u001b[0m \u001b[0mos\u001b[0m\u001b[0;34m.\u001b[0m\u001b[0mlistdir\u001b[0m\u001b[0;34m(\u001b[0m\u001b[0mpath\u001b[0m\u001b[0;34m)\u001b[0m\u001b[0;34m:\u001b[0m\u001b[0;34m\u001b[0m\u001b[0;34m\u001b[0m\u001b[0m\n\u001b[0;32m----> 4\u001b[0;31m   \u001b[0mos\u001b[0m\u001b[0;34m.\u001b[0m\u001b[0mremove\u001b[0m\u001b[0;34m(\u001b[0m\u001b[0mos\u001b[0m\u001b[0;34m.\u001b[0m\u001b[0mpath\u001b[0m\u001b[0;34m.\u001b[0m\u001b[0mjoin\u001b[0m\u001b[0;34m(\u001b[0m\u001b[0mpath\u001b[0m\u001b[0;34m,\u001b[0m \u001b[0mi\u001b[0m\u001b[0;34m)\u001b[0m\u001b[0;34m)\u001b[0m\u001b[0;34m\u001b[0m\u001b[0;34m\u001b[0m\u001b[0m\n\u001b[0m",
            "\u001b[0;31mIsADirectoryError\u001b[0m: [Errno 21] Is a directory: '/content/weights/bayesian/.ipynb_checkpoints'"
          ]
        }
      ]
    },
    {
      "cell_type": "code",
      "metadata": {
        "colab": {
          "base_uri": "https://localhost:8080/"
        },
        "id": "pVbkNK9wPDLf",
        "outputId": "fc3450f6-27a7-4d97-e67d-0be0d9d688ff"
      },
      "source": [
        "!python train.py with configs/toy_config.json \"num_gpus\"=1 \"batch_size\"=4 \"prior_std\"=0.5"
      ],
      "execution_count": 68,
      "outputs": [
        {
          "output_type": "stream",
          "text": [
            "WARNING - utils - No observers have been added to this run\n",
            "INFO - utils - Running command 'train'\n",
            "INFO - utils - Started\n",
            "loading data...\n",
            "in save_train_data\n",
            "getting model...\n",
            "input shape is (256, 1, 256)\n",
            "train shape is (502, 256, 1, 256)\n",
            "val shape is (100, 256, 1, 256)\n",
            "train_targets shape is (128512, 256, 1)\n",
            "val_targets shape is (25600, 256, 1)\n",
            "input shape is (256, 256, 1)\n",
            "train shape is (502, 256, 256, 1)\n",
            "val shape is (100, 256, 256, 1)\n",
            "train_targets shape is (502, 256, 256, 1)\n",
            "val_targets shape is (100, 256, 256, 1)\n",
            "WARNING:tensorflow:From /usr/local/lib/python3.6/dist-packages/tensorflow_core/python/ops/resource_variable_ops.py:1630: calling BaseResourceVariable.__init__ (from tensorflow.python.ops.resource_variable_ops) with constraint is deprecated and will be removed in a future version.\n",
            "Instructions for updating:\n",
            "If using Keras pass *_constraint arguments to layers.\n",
            "WARNING - tensorflow - From /usr/local/lib/python3.6/dist-packages/tensorflow_core/python/ops/resource_variable_ops.py:1630: calling BaseResourceVariable.__init__ (from tensorflow.python.ops.resource_variable_ops) with constraint is deprecated and will be removed in a future version.\n",
            "Instructions for updating:\n",
            "If using Keras pass *_constraint arguments to layers.\n",
            "WARNING:tensorflow:From /usr/local/lib/python3.6/dist-packages/tensorflow_probability/python/layers/util.py:102: Layer.add_variable (from tensorflow.python.keras.engine.base_layer) is deprecated and will be removed in a future version.\n",
            "Instructions for updating:\n",
            "Please use `layer.add_weight` method instead.\n",
            "WARNING - tensorflow - From /usr/local/lib/python3.6/dist-packages/tensorflow_probability/python/layers/util.py:102: Layer.add_variable (from tensorflow.python.keras.engine.base_layer) is deprecated and will be removed in a future version.\n",
            "Instructions for updating:\n",
            "Please use `layer.add_weight` method instead.\n",
            "Model: \"model\"\n",
            "_______________________________________________________________________________________________________________________________\n",
            "Layer (type)                             Output Shape                Param #         Connected to                              \n",
            "===============================================================================================================================\n",
            "input_1 (InputLayer)                     [(None, 256, 256, 1)]       0                                                         \n",
            "_______________________________________________________________________________________________________________________________\n",
            "conv2d (Conv2D)                          (None, 256, 256, 16)        160             input_1[0][0]                             \n",
            "_______________________________________________________________________________________________________________________________\n",
            "group_normalization (GroupNormalization) (None, 256, 256, 16)        32              conv2d[0][0]                              \n",
            "_______________________________________________________________________________________________________________________________\n",
            "conv2d_1 (Conv2D)                        (None, 256, 256, 16)        2320            group_normalization[0][0]                 \n",
            "_______________________________________________________________________________________________________________________________\n",
            "group_normalization_1 (GroupNormalizatio (None, 256, 256, 16)        32              conv2d_1[0][0]                            \n",
            "_______________________________________________________________________________________________________________________________\n",
            "max_pooling2d (MaxPooling2D)             (None, 128, 128, 16)        0               group_normalization_1[0][0]               \n",
            "_______________________________________________________________________________________________________________________________\n",
            "conv2d_2 (Conv2D)                        (None, 128, 128, 32)        4640            max_pooling2d[0][0]                       \n",
            "_______________________________________________________________________________________________________________________________\n",
            "group_normalization_2 (GroupNormalizatio (None, 128, 128, 32)        64              conv2d_2[0][0]                            \n",
            "_______________________________________________________________________________________________________________________________\n",
            "conv2d_3 (Conv2D)                        (None, 128, 128, 32)        9248            group_normalization_2[0][0]               \n",
            "_______________________________________________________________________________________________________________________________\n",
            "group_normalization_3 (GroupNormalizatio (None, 128, 128, 32)        64              conv2d_3[0][0]                            \n",
            "_______________________________________________________________________________________________________________________________\n",
            "max_pooling2d_1 (MaxPooling2D)           (None, 64, 64, 32)          0               group_normalization_3[0][0]               \n",
            "_______________________________________________________________________________________________________________________________\n",
            "conv2d_4 (Conv2D)                        (None, 64, 64, 64)          18496           max_pooling2d_1[0][0]                     \n",
            "_______________________________________________________________________________________________________________________________\n",
            "group_normalization_4 (GroupNormalizatio (None, 64, 64, 64)          128             conv2d_4[0][0]                            \n",
            "_______________________________________________________________________________________________________________________________\n",
            "conv2d_5 (Conv2D)                        (None, 64, 64, 64)          36928           group_normalization_4[0][0]               \n",
            "_______________________________________________________________________________________________________________________________\n",
            "group_normalization_5 (GroupNormalizatio (None, 64, 64, 64)          128             conv2d_5[0][0]                            \n",
            "_______________________________________________________________________________________________________________________________\n",
            "max_pooling2d_2 (MaxPooling2D)           (None, 32, 32, 64)          0               group_normalization_5[0][0]               \n",
            "_______________________________________________________________________________________________________________________________\n",
            "conv2d_6 (Conv2D)                        (None, 32, 32, 128)         73856           max_pooling2d_2[0][0]                     \n",
            "_______________________________________________________________________________________________________________________________\n",
            "group_normalization_6 (GroupNormalizatio (None, 32, 32, 128)         256             conv2d_6[0][0]                            \n",
            "_______________________________________________________________________________________________________________________________\n",
            "conv2d_7 (Conv2D)                        (None, 32, 32, 128)         147584          group_normalization_6[0][0]               \n",
            "_______________________________________________________________________________________________________________________________\n",
            "group_normalization_7 (GroupNormalizatio (None, 32, 32, 128)         256             conv2d_7[0][0]                            \n",
            "_______________________________________________________________________________________________________________________________\n",
            "up_sampling2d (UpSampling2D)             (None, 64, 64, 128)         0               group_normalization_7[0][0]               \n",
            "_______________________________________________________________________________________________________________________________\n",
            "conv2d_flipout (Conv2DFlipout)           (None, 64, 64, 64)          65600           up_sampling2d[0][0]                       \n",
            "_______________________________________________________________________________________________________________________________\n",
            "group_normalization_8 (GroupNormalizatio (None, 64, 64, 64)          128             conv2d_flipout[0][0]                      \n",
            "_______________________________________________________________________________________________________________________________\n",
            "concatenate (Concatenate)                (None, 64, 64, 128)         0               group_normalization_5[0][0]               \n",
            "                                                                                     group_normalization_8[0][0]               \n",
            "_______________________________________________________________________________________________________________________________\n",
            "group_normalization_9 (GroupNormalizatio (None, 64, 64, 128)         256             concatenate[0][0]                         \n",
            "_______________________________________________________________________________________________________________________________\n",
            "conv2d_flipout_1 (Conv2DFlipout)         (None, 64, 64, 64)          147520          group_normalization_9[0][0]               \n",
            "_______________________________________________________________________________________________________________________________\n",
            "group_normalization_10 (GroupNormalizati (None, 64, 64, 64)          128             conv2d_flipout_1[0][0]                    \n",
            "_______________________________________________________________________________________________________________________________\n",
            "conv2d_flipout_2 (Conv2DFlipout)         (None, 64, 64, 64)          73792           group_normalization_10[0][0]              \n",
            "_______________________________________________________________________________________________________________________________\n",
            "group_normalization_11 (GroupNormalizati (None, 64, 64, 64)          128             conv2d_flipout_2[0][0]                    \n",
            "_______________________________________________________________________________________________________________________________\n",
            "up_sampling2d_1 (UpSampling2D)           (None, 128, 128, 64)        0               group_normalization_11[0][0]              \n",
            "_______________________________________________________________________________________________________________________________\n",
            "conv2d_flipout_3 (Conv2DFlipout)         (None, 128, 128, 32)        16416           up_sampling2d_1[0][0]                     \n",
            "_______________________________________________________________________________________________________________________________\n",
            "group_normalization_12 (GroupNormalizati (None, 128, 128, 32)        64              conv2d_flipout_3[0][0]                    \n",
            "_______________________________________________________________________________________________________________________________\n",
            "concatenate_1 (Concatenate)              (None, 128, 128, 64)        0               group_normalization_3[0][0]               \n",
            "                                                                                     group_normalization_12[0][0]              \n",
            "_______________________________________________________________________________________________________________________________\n",
            "group_normalization_13 (GroupNormalizati (None, 128, 128, 64)        128             concatenate_1[0][0]                       \n",
            "_______________________________________________________________________________________________________________________________\n",
            "conv2d_flipout_4 (Conv2DFlipout)         (None, 128, 128, 32)        36896           group_normalization_13[0][0]              \n",
            "_______________________________________________________________________________________________________________________________\n",
            "group_normalization_14 (GroupNormalizati (None, 128, 128, 32)        64              conv2d_flipout_4[0][0]                    \n",
            "_______________________________________________________________________________________________________________________________\n",
            "conv2d_flipout_5 (Conv2DFlipout)         (None, 128, 128, 32)        18464           group_normalization_14[0][0]              \n",
            "_______________________________________________________________________________________________________________________________\n",
            "group_normalization_15 (GroupNormalizati (None, 128, 128, 32)        64              conv2d_flipout_5[0][0]                    \n",
            "_______________________________________________________________________________________________________________________________\n",
            "up_sampling2d_2 (UpSampling2D)           (None, 256, 256, 32)        0               group_normalization_15[0][0]              \n",
            "_______________________________________________________________________________________________________________________________\n",
            "conv2d_flipout_6 (Conv2DFlipout)         (None, 256, 256, 16)        4112            up_sampling2d_2[0][0]                     \n",
            "_______________________________________________________________________________________________________________________________\n",
            "group_normalization_16 (GroupNormalizati (None, 256, 256, 16)        32              conv2d_flipout_6[0][0]                    \n",
            "_______________________________________________________________________________________________________________________________\n",
            "concatenate_2 (Concatenate)              (None, 256, 256, 32)        0               group_normalization_1[0][0]               \n",
            "                                                                                     group_normalization_16[0][0]              \n",
            "_______________________________________________________________________________________________________________________________\n",
            "group_normalization_17 (GroupNormalizati (None, 256, 256, 32)        64              concatenate_2[0][0]                       \n",
            "_______________________________________________________________________________________________________________________________\n",
            "conv2d_flipout_7 (Conv2DFlipout)         (None, 256, 256, 16)        9232            group_normalization_17[0][0]              \n",
            "_______________________________________________________________________________________________________________________________\n",
            "group_normalization_18 (GroupNormalizati (None, 256, 256, 16)        32              conv2d_flipout_7[0][0]                    \n",
            "_______________________________________________________________________________________________________________________________\n",
            "conv2d_flipout_8 (Conv2DFlipout)         (None, 256, 256, 16)        4624            group_normalization_18[0][0]              \n",
            "_______________________________________________________________________________________________________________________________\n",
            "group_normalization_19 (GroupNormalizati (None, 256, 256, 16)        32              conv2d_flipout_8[0][0]                    \n",
            "_______________________________________________________________________________________________________________________________\n",
            "conv2d_flipout_9 (Conv2DFlipout)         (None, 256, 256, 1)         289             group_normalization_19[0][0]              \n",
            "_______________________________________________________________________________________________________________________________\n",
            "conv2d_flipout_10 (Conv2DFlipout)        (None, 256, 256, 1)         3               conv2d_flipout_9[0][0]                    \n",
            "===============================================================================================================================\n",
            "Total params: 672,260\n",
            "Trainable params: 672,260\n",
            "Non-trainable params: 0\n",
            "_______________________________________________________________________________________________________________________________\n",
            "WARNING:tensorflow:From /usr/local/lib/python3.6/dist-packages/tensorflow_core/python/ops/nn_impl.py:183: where (from tensorflow.python.ops.array_ops) is deprecated and will be removed in a future version.\n",
            "Instructions for updating:\n",
            "Use tf.where in 2.0, which has the same broadcast rule as np.where\n",
            "WARNING - tensorflow - From /usr/local/lib/python3.6/dist-packages/tensorflow_core/python/ops/nn_impl.py:183: where (from tensorflow.python.ops.array_ops) is deprecated and will be removed in a future version.\n",
            "Instructions for updating:\n",
            "Use tf.where in 2.0, which has the same broadcast rule as np.where\n",
            "fitting model...\n",
            "Train on 502 samples, validate on 100 samples\n",
            "Epoch 1/20\n",
            "500/502 [============================>.] - ETA: 0s - loss: 350830.1113 - acc: 0.3377\n",
            "Epoch 00001: val_loss improved from inf to 337554.06875, saving model to /content/weights/bayesian/bayesian-01-0.816-337554.h5\n",
            "Current KL Weight is 1.0\n",
            "502/502 [==============================] - 31s 63ms/sample - loss: 350778.0086 - acc: 0.3402 - val_loss: 337554.0687 - val_acc: 0.8158\n",
            "Epoch 2/20\n",
            "500/502 [============================>.] - ETA: 0s - loss: 325616.9643 - acc: 0.8381\n",
            "Epoch 00002: val_loss improved from 337554.06875 to 313476.99625, saving model to /content/weights/bayesian/bayesian-02-0.819-313477.h5\n",
            "Current KL Weight is 1.0\n",
            "502/502 [==============================] - 20s 39ms/sample - loss: 325569.3710 - acc: 0.8387 - val_loss: 313476.9963 - val_acc: 0.8189\n",
            "Epoch 3/20\n",
            "500/502 [============================>.] - ETA: 0s - loss: 301904.6540 - acc: 0.8466\n",
            "Epoch 00003: val_loss improved from 313476.99625 to 289869.89750, saving model to /content/weights/bayesian/bayesian-03-0.819-289870.h5\n",
            "Current KL Weight is 1.0\n",
            "502/502 [==============================] - 20s 40ms/sample - loss: 301858.0681 - acc: 0.8471 - val_loss: 289869.8975 - val_acc: 0.8189\n",
            "Epoch 4/20\n",
            "500/502 [============================>.] - ETA: 0s - loss: 276799.8380 - acc: 0.8472\n",
            "Epoch 00004: val_loss improved from 289869.89750 to 261751.90313, saving model to /content/weights/bayesian/bayesian-04-0.819-261752.h5\n",
            "Current KL Weight is 1.0\n",
            "502/502 [==============================] - 20s 41ms/sample - loss: 276741.0794 - acc: 0.8472 - val_loss: 261751.9031 - val_acc: 0.8189\n",
            "Epoch 5/20\n",
            "500/502 [============================>.] - ETA: 0s - loss: 246713.9181 - acc: 0.8472\n",
            "Epoch 00005: val_loss improved from 261751.90313 to 227977.40563, saving model to /content/weights/bayesian/bayesian-05-0.819-227977.h5\n",
            "Current KL Weight is 1.0\n",
            "502/502 [==============================] - 20s 41ms/sample - loss: 246647.4134 - acc: 0.8472 - val_loss: 227977.4056 - val_acc: 0.8189\n",
            "Epoch 6/20\n",
            "500/502 [============================>.] - ETA: 0s - loss: 211567.0571 - acc: 0.8468\n",
            "Epoch 00006: val_loss improved from 227977.40563 to 188604.81562, saving model to /content/weights/bayesian/bayesian-06-0.819-188605.h5\n",
            "Current KL Weight is 1.0\n",
            "502/502 [==============================] - 20s 40ms/sample - loss: 211538.6805 - acc: 0.8472 - val_loss: 188604.8156 - val_acc: 0.8189\n",
            "Epoch 7/20\n",
            "500/502 [============================>.] - ETA: 0s - loss: 170878.6254 - acc: 0.8475\n",
            "Epoch 00007: val_loss improved from 188604.81562 to 141799.45531, saving model to /content/weights/bayesian/bayesian-07-0.819-141799.h5\n",
            "Current KL Weight is 1.0\n",
            "502/502 [==============================] - 20s 40ms/sample - loss: 170718.7120 - acc: 0.8472 - val_loss: 141799.4553 - val_acc: 0.8189\n",
            "Epoch 8/20\n",
            "500/502 [============================>.] - ETA: 0s - loss: 124092.2245 - acc: 0.8466\n",
            "Epoch 00008: val_loss improved from 141799.45531 to 88754.09781, saving model to /content/weights/bayesian/bayesian-08-0.819-88754.h5\n",
            "Current KL Weight is 1.0\n",
            "502/502 [==============================] - 20s 41ms/sample - loss: 124287.9508 - acc: 0.8472 - val_loss: 88754.0978 - val_acc: 0.8189\n",
            "Epoch 9/20\n",
            "500/502 [============================>.] - ETA: 0s - loss: 71611.2361 - acc: 0.8475\n",
            "Epoch 00009: val_loss improved from 88754.09781 to 28162.03344, saving model to /content/weights/bayesian/bayesian-09-0.819-28162.h5\n",
            "Current KL Weight is 1.0\n",
            "502/502 [==============================] - 20s 40ms/sample - loss: 71330.6546 - acc: 0.8472 - val_loss: 28162.0334 - val_acc: 0.8189\n",
            "Epoch 10/20\n",
            "500/502 [============================>.] - ETA: 0s - loss: 12656.3864 - acc: 0.8477\n",
            "Epoch 00010: val_loss improved from 28162.03344 to -38723.63781, saving model to /content/weights/bayesian/bayesian-10-0.819--38724.h5\n",
            "Current KL Weight is 1.0\n",
            "502/502 [==============================] - 20s 40ms/sample - loss: 12147.2277 - acc: 0.8472 - val_loss: -38723.6378 - val_acc: 0.8189\n",
            "Epoch 11/20\n",
            "500/502 [============================>.] - ETA: 0s - loss: -54505.1859 - acc: 0.8467\n",
            "Epoch 00011: val_loss improved from -38723.63781 to -114328.53000, saving model to /content/weights/bayesian/bayesian-11-0.819--114329.h5\n",
            "Current KL Weight is 1.0\n",
            "502/502 [==============================] - 20s 40ms/sample - loss: -54096.0009 - acc: 0.8472 - val_loss: -114328.5300 - val_acc: 0.8189\n",
            "Epoch 12/20\n",
            "500/502 [============================>.] - ETA: 0s - loss: -127055.8779 - acc: 0.8467\n",
            "Epoch 00012: val_loss improved from -114328.53000 to -199089.31250, saving model to /content/weights/bayesian/bayesian-12-0.819--199089.h5\n",
            "Current KL Weight is 1.0\n",
            "502/502 [==============================] - 20s 40ms/sample - loss: -126490.0031 - acc: 0.8472 - val_loss: -199089.3125 - val_acc: 0.8189\n",
            "Epoch 13/20\n",
            "500/502 [============================>.] - ETA: 0s - loss: -205131.5141 - acc: 0.8468\n",
            "Epoch 00013: val_loss improved from -199089.31250 to -285482.86625, saving model to /content/weights/bayesian/bayesian-13-0.819--285483.h5\n",
            "Current KL Weight is 1.0\n",
            "502/502 [==============================] - 20s 40ms/sample - loss: -204876.1310 - acc: 0.8472 - val_loss: -285482.8663 - val_acc: 0.8189\n",
            "Epoch 14/20\n",
            "500/502 [============================>.] - ETA: 0s - loss: -289414.7845 - acc: 0.8468\n",
            "Epoch 00014: val_loss improved from -285482.86625 to -377531.75750, saving model to /content/weights/bayesian/bayesian-14-0.819--377532.h5\n",
            "Current KL Weight is 1.0\n",
            "502/502 [==============================] - 20s 40ms/sample - loss: -288759.1986 - acc: 0.8472 - val_loss: -377531.7575 - val_acc: 0.8189\n",
            "Epoch 15/20\n",
            "500/502 [============================>.] - ETA: 0s - loss: -373113.2995 - acc: 0.8476\n",
            "Epoch 00015: val_loss improved from -377531.75750 to -477054.82625, saving model to /content/weights/bayesian/bayesian-15-0.819--477055.h5\n",
            "Current KL Weight is 1.0\n",
            "502/502 [==============================] - 20s 40ms/sample - loss: -374010.2707 - acc: 0.8472 - val_loss: -477054.8262 - val_acc: 0.8189\n",
            "Epoch 16/20\n",
            "500/502 [============================>.] - ETA: 0s - loss: -465918.5841 - acc: 0.8467\n",
            "Epoch 00016: val_loss improved from -477054.82625 to -575310.19625, saving model to /content/weights/bayesian/bayesian-16-0.819--575310.h5\n",
            "Current KL Weight is 1.0\n",
            "502/502 [==============================] - 20s 40ms/sample - loss: -464757.9078 - acc: 0.8472 - val_loss: -575310.1963 - val_acc: 0.8189\n",
            "Epoch 17/20\n",
            "500/502 [============================>.] - ETA: 0s - loss: -554684.6584 - acc: 0.8466\n",
            "Epoch 00017: val_loss improved from -575310.19625 to -675504.32375, saving model to /content/weights/bayesian/bayesian-17-0.819--675504.h5\n",
            "Current KL Weight is 1.0\n",
            "502/502 [==============================] - 20s 40ms/sample - loss: -553081.0204 - acc: 0.8472 - val_loss: -675504.3237 - val_acc: 0.8189\n",
            "Epoch 18/20\n",
            "500/502 [============================>.] - ETA: 0s - loss: -641427.4719 - acc: 0.8473\n",
            "Epoch 00018: val_loss improved from -675504.32375 to -769452.68750, saving model to /content/weights/bayesian/bayesian-18-0.819--769453.h5\n",
            "Current KL Weight is 1.0\n",
            "502/502 [==============================] - 20s 40ms/sample - loss: -642398.2417 - acc: 0.8472 - val_loss: -769452.6875 - val_acc: 0.8189\n",
            "Epoch 19/20\n",
            "500/502 [============================>.] - ETA: 0s - loss: -730569.6127 - acc: 0.8471\n",
            "Epoch 00019: val_loss improved from -769452.68750 to -868355.14375, saving model to /content/weights/bayesian/bayesian-19-0.819--868355.h5\n",
            "Current KL Weight is 1.0\n",
            "502/502 [==============================] - 20s 40ms/sample - loss: -729825.7898 - acc: 0.8472 - val_loss: -868355.1438 - val_acc: 0.8189\n",
            "Epoch 20/20\n",
            "500/502 [============================>.] - ETA: 0s - loss: -810145.8685 - acc: 0.8478\n",
            "Epoch 00020: val_loss improved from -868355.14375 to -960462.14250, saving model to /content/weights/bayesian/bayesian-20-0.819--960462.h5\n",
            "Current KL Weight is 1.0\n",
            "502/502 [==============================] - 20s 40ms/sample - loss: -812573.5687 - acc: 0.8472 - val_loss: -960462.1425 - val_acc: 0.8189\n",
            "INFO - utils - Completed after 0:07:10\n"
          ],
          "name": "stdout"
        }
      ]
    },
    {
      "cell_type": "code",
      "metadata": {
        "id": "i-pvgqufL0LS"
      },
      "source": [
        "import skimage\n",
        "import matplotlib.pyplot as plt\n",
        "#### Try on Damaé médical Images ####\n"
      ],
      "execution_count": 95,
      "outputs": []
    },
    {
      "cell_type": "code",
      "metadata": {
        "id": "geo9hYJ9pRP0",
        "outputId": "29694103-5df7-4ebf-9e0f-99e7d26091b3",
        "colab": {
          "base_uri": "https://localhost:8080/"
        }
      },
      "source": [
        "%matplotlib inline\n",
        "!python test.py with configs/toy_config.json "
      ],
      "execution_count": 106,
      "outputs": [
        {
          "output_type": "stream",
          "text": [
            "WARNING - utils - No observers have been added to this run\n",
            "INFO - utils - Running command 'test'\n",
            "INFO - utils - Started\n",
            "in save_test_data\n",
            "input shape  (256, 1, 256)\n",
            "WARNING:tensorflow:From /usr/local/lib/python3.6/dist-packages/tensorflow_core/python/ops/resource_variable_ops.py:1630: calling BaseResourceVariable.__init__ (from tensorflow.python.ops.resource_variable_ops) with constraint is deprecated and will be removed in a future version.\n",
            "Instructions for updating:\n",
            "If using Keras pass *_constraint arguments to layers.\n",
            "WARNING - tensorflow - From /usr/local/lib/python3.6/dist-packages/tensorflow_core/python/ops/resource_variable_ops.py:1630: calling BaseResourceVariable.__init__ (from tensorflow.python.ops.resource_variable_ops) with constraint is deprecated and will be removed in a future version.\n",
            "Instructions for updating:\n",
            "If using Keras pass *_constraint arguments to layers.\n",
            "WARNING:tensorflow:From /usr/local/lib/python3.6/dist-packages/tensorflow_probability/python/layers/util.py:102: Layer.add_variable (from tensorflow.python.keras.engine.base_layer) is deprecated and will be removed in a future version.\n",
            "Instructions for updating:\n",
            "Please use `layer.add_weight` method instead.\n",
            "WARNING - tensorflow - From /usr/local/lib/python3.6/dist-packages/tensorflow_probability/python/layers/util.py:102: Layer.add_variable (from tensorflow.python.keras.engine.base_layer) is deprecated and will be removed in a future version.\n",
            "Instructions for updating:\n",
            "Please use `layer.add_weight` method instead.\n",
            "Model: \"model_1\"\n",
            "_______________________________________________________________________________________________________________________________\n",
            "Layer (type)                             Output Shape                Param #         Connected to                              \n",
            "===============================================================================================================================\n",
            "input_2 (InputLayer)                     [(None, 256, 256, 1)]       0                                                         \n",
            "_______________________________________________________________________________________________________________________________\n",
            "conv2d_8 (Conv2D)                        (None, 256, 256, 16)        160             input_2[0][0]                             \n",
            "_______________________________________________________________________________________________________________________________\n",
            "group_normalization_20 (GroupNormalizati (None, 256, 256, 16)        32              conv2d_8[0][0]                            \n",
            "_______________________________________________________________________________________________________________________________\n",
            "conv2d_9 (Conv2D)                        (None, 256, 256, 16)        2320            group_normalization_20[0][0]              \n",
            "_______________________________________________________________________________________________________________________________\n",
            "group_normalization_21 (GroupNormalizati (None, 256, 256, 16)        32              conv2d_9[0][0]                            \n",
            "_______________________________________________________________________________________________________________________________\n",
            "max_pooling2d_4 (MaxPooling2D)           (None, 128, 128, 16)        0               group_normalization_21[0][0]              \n",
            "_______________________________________________________________________________________________________________________________\n",
            "conv2d_10 (Conv2D)                       (None, 128, 128, 32)        4640            max_pooling2d_4[0][0]                     \n",
            "_______________________________________________________________________________________________________________________________\n",
            "group_normalization_22 (GroupNormalizati (None, 128, 128, 32)        64              conv2d_10[0][0]                           \n",
            "_______________________________________________________________________________________________________________________________\n",
            "conv2d_11 (Conv2D)                       (None, 128, 128, 32)        9248            group_normalization_22[0][0]              \n",
            "_______________________________________________________________________________________________________________________________\n",
            "group_normalization_23 (GroupNormalizati (None, 128, 128, 32)        64              conv2d_11[0][0]                           \n",
            "_______________________________________________________________________________________________________________________________\n",
            "max_pooling2d_5 (MaxPooling2D)           (None, 64, 64, 32)          0               group_normalization_23[0][0]              \n",
            "_______________________________________________________________________________________________________________________________\n",
            "conv2d_12 (Conv2D)                       (None, 64, 64, 64)          18496           max_pooling2d_5[0][0]                     \n",
            "_______________________________________________________________________________________________________________________________\n",
            "group_normalization_24 (GroupNormalizati (None, 64, 64, 64)          128             conv2d_12[0][0]                           \n",
            "_______________________________________________________________________________________________________________________________\n",
            "conv2d_13 (Conv2D)                       (None, 64, 64, 64)          36928           group_normalization_24[0][0]              \n",
            "_______________________________________________________________________________________________________________________________\n",
            "group_normalization_25 (GroupNormalizati (None, 64, 64, 64)          128             conv2d_13[0][0]                           \n",
            "_______________________________________________________________________________________________________________________________\n",
            "max_pooling2d_6 (MaxPooling2D)           (None, 32, 32, 64)          0               group_normalization_25[0][0]              \n",
            "_______________________________________________________________________________________________________________________________\n",
            "conv2d_14 (Conv2D)                       (None, 32, 32, 128)         73856           max_pooling2d_6[0][0]                     \n",
            "_______________________________________________________________________________________________________________________________\n",
            "group_normalization_26 (GroupNormalizati (None, 32, 32, 128)         256             conv2d_14[0][0]                           \n",
            "_______________________________________________________________________________________________________________________________\n",
            "conv2d_15 (Conv2D)                       (None, 32, 32, 128)         147584          group_normalization_26[0][0]              \n",
            "_______________________________________________________________________________________________________________________________\n",
            "group_normalization_27 (GroupNormalizati (None, 32, 32, 128)         256             conv2d_15[0][0]                           \n",
            "_______________________________________________________________________________________________________________________________\n",
            "up_sampling2d_3 (UpSampling2D)           (None, 64, 64, 128)         0               group_normalization_27[0][0]              \n",
            "_______________________________________________________________________________________________________________________________\n",
            "conv2d_flipout_11 (Conv2DFlipout)        (None, 64, 64, 64)          65600           up_sampling2d_3[0][0]                     \n",
            "_______________________________________________________________________________________________________________________________\n",
            "group_normalization_28 (GroupNormalizati (None, 64, 64, 64)          128             conv2d_flipout_11[0][0]                   \n",
            "_______________________________________________________________________________________________________________________________\n",
            "concatenate_3 (Concatenate)              (None, 64, 64, 128)         0               group_normalization_25[0][0]              \n",
            "                                                                                     group_normalization_28[0][0]              \n",
            "_______________________________________________________________________________________________________________________________\n",
            "group_normalization_29 (GroupNormalizati (None, 64, 64, 128)         256             concatenate_3[0][0]                       \n",
            "_______________________________________________________________________________________________________________________________\n",
            "conv2d_flipout_12 (Conv2DFlipout)        (None, 64, 64, 64)          147520          group_normalization_29[0][0]              \n",
            "_______________________________________________________________________________________________________________________________\n",
            "group_normalization_30 (GroupNormalizati (None, 64, 64, 64)          128             conv2d_flipout_12[0][0]                   \n",
            "_______________________________________________________________________________________________________________________________\n",
            "conv2d_flipout_13 (Conv2DFlipout)        (None, 64, 64, 64)          73792           group_normalization_30[0][0]              \n",
            "_______________________________________________________________________________________________________________________________\n",
            "group_normalization_31 (GroupNormalizati (None, 64, 64, 64)          128             conv2d_flipout_13[0][0]                   \n",
            "_______________________________________________________________________________________________________________________________\n",
            "up_sampling2d_4 (UpSampling2D)           (None, 128, 128, 64)        0               group_normalization_31[0][0]              \n",
            "_______________________________________________________________________________________________________________________________\n",
            "conv2d_flipout_14 (Conv2DFlipout)        (None, 128, 128, 32)        16416           up_sampling2d_4[0][0]                     \n",
            "_______________________________________________________________________________________________________________________________\n",
            "group_normalization_32 (GroupNormalizati (None, 128, 128, 32)        64              conv2d_flipout_14[0][0]                   \n",
            "_______________________________________________________________________________________________________________________________\n",
            "concatenate_4 (Concatenate)              (None, 128, 128, 64)        0               group_normalization_23[0][0]              \n",
            "                                                                                     group_normalization_32[0][0]              \n",
            "_______________________________________________________________________________________________________________________________\n",
            "group_normalization_33 (GroupNormalizati (None, 128, 128, 64)        128             concatenate_4[0][0]                       \n",
            "_______________________________________________________________________________________________________________________________\n",
            "conv2d_flipout_15 (Conv2DFlipout)        (None, 128, 128, 32)        36896           group_normalization_33[0][0]              \n",
            "_______________________________________________________________________________________________________________________________\n",
            "group_normalization_34 (GroupNormalizati (None, 128, 128, 32)        64              conv2d_flipout_15[0][0]                   \n",
            "_______________________________________________________________________________________________________________________________\n",
            "conv2d_flipout_16 (Conv2DFlipout)        (None, 128, 128, 32)        18464           group_normalization_34[0][0]              \n",
            "_______________________________________________________________________________________________________________________________\n",
            "group_normalization_35 (GroupNormalizati (None, 128, 128, 32)        64              conv2d_flipout_16[0][0]                   \n",
            "_______________________________________________________________________________________________________________________________\n",
            "up_sampling2d_5 (UpSampling2D)           (None, 256, 256, 32)        0               group_normalization_35[0][0]              \n",
            "_______________________________________________________________________________________________________________________________\n",
            "conv2d_flipout_17 (Conv2DFlipout)        (None, 256, 256, 16)        4112            up_sampling2d_5[0][0]                     \n",
            "_______________________________________________________________________________________________________________________________\n",
            "group_normalization_36 (GroupNormalizati (None, 256, 256, 16)        32              conv2d_flipout_17[0][0]                   \n",
            "_______________________________________________________________________________________________________________________________\n",
            "concatenate_5 (Concatenate)              (None, 256, 256, 32)        0               group_normalization_21[0][0]              \n",
            "                                                                                     group_normalization_36[0][0]              \n",
            "_______________________________________________________________________________________________________________________________\n",
            "group_normalization_37 (GroupNormalizati (None, 256, 256, 32)        64              concatenate_5[0][0]                       \n",
            "_______________________________________________________________________________________________________________________________\n",
            "conv2d_flipout_18 (Conv2DFlipout)        (None, 256, 256, 16)        9232            group_normalization_37[0][0]              \n",
            "_______________________________________________________________________________________________________________________________\n",
            "group_normalization_38 (GroupNormalizati (None, 256, 256, 16)        32              conv2d_flipout_18[0][0]                   \n",
            "_______________________________________________________________________________________________________________________________\n",
            "conv2d_flipout_19 (Conv2DFlipout)        (None, 256, 256, 16)        4624            group_normalization_38[0][0]              \n",
            "_______________________________________________________________________________________________________________________________\n",
            "group_normalization_39 (GroupNormalizati (None, 256, 256, 16)        32              conv2d_flipout_19[0][0]                   \n",
            "_______________________________________________________________________________________________________________________________\n",
            "conv2d_flipout_20 (Conv2DFlipout)        (None, 256, 256, 1)         289             group_normalization_39[0][0]              \n",
            "_______________________________________________________________________________________________________________________________\n",
            "conv2d_flipout_21 (Conv2DFlipout)        (None, 256, 256, 1)         3               conv2d_flipout_20[0][0]                   \n",
            "===============================================================================================================================\n",
            "Total params: 672,260\n",
            "Trainable params: 672,260\n",
            "Non-trainable params: 0\n",
            "_______________________________________________________________________________________________________________________________\n",
            "WARNING:tensorflow:From /usr/local/lib/python3.6/dist-packages/tensorflow_core/python/ops/nn_impl.py:183: where (from tensorflow.python.ops.array_ops) is deprecated and will be removed in a future version.\n",
            "Instructions for updating:\n",
            "Use tf.where in 2.0, which has the same broadcast rule as np.where\n",
            "WARNING - tensorflow - From /usr/local/lib/python3.6/dist-packages/tensorflow_core/python/ops/nn_impl.py:183: where (from tensorflow.python.ops.array_ops) is deprecated and will be removed in a future version.\n",
            "Instructions for updating:\n",
            "Use tf.where in 2.0, which has the same broadcast rule as np.where\n",
            "\n",
            "sigmoids shape (12, 68, 256, 256)\n",
            "test (68, 256, 256, 1)\n",
            "sigmoids shape (12, 68, 256, 256, 1)\n",
            "pred_slice (68, 256, 256, 1)\n",
            "test (68, 256, 256, 1)\n",
            "test trg (17408, 256, 1)\n",
            "<Figure size 640x480 with 1 Axes>\n",
            "<Figure size 640x480 with 2 Axes>\n",
            "pred_slice (256, 256)\n",
            "img (256, 256)\n",
            "trg (256,)\n",
            "<Figure size 640x480 with 2 Axes>\n",
            "pred_slice (256, 256)\n",
            "img (256, 256)\n",
            "trg (256,)\n",
            "<Figure size 640x480 with 2 Axes>\n",
            "pred_slice (256, 256)\n",
            "img (256, 256)\n",
            "trg (256,)\n",
            "<Figure size 640x480 with 2 Axes>\n",
            "pred_slice (256, 256)\n",
            "img (256, 256)\n",
            "trg (256,)\n",
            "<Figure size 640x480 with 2 Axes>\n",
            "pred_slice (256, 256)\n",
            "img (256, 256)\n",
            "trg (256,)\n",
            "INFO - utils - Completed after 0:00:22\n"
          ],
          "name": "stdout"
        }
      ]
    },
    {
      "cell_type": "code",
      "metadata": {
        "id": "irGp2rBasiHJ"
      },
      "source": [
        "path = \"/content/drive/MyDrive/Colab Notebooks/cells/validation/images\"\n",
        "for i in os.listdir(path):\n",
        "  if i == '.DS_Store':\n",
        "    os.remove(os.path.join(path, i))"
      ],
      "execution_count": 75,
      "outputs": []
    },
    {
      "cell_type": "code",
      "metadata": {
        "colab": {
          "base_uri": "https://localhost:8080/",
          "height": 1000
        },
        "id": "jdeZgAJBWXZH",
        "outputId": "0f7e5d43-3afd-4583-aef3-3d7775a9fbfc"
      },
      "source": [
        "!pip install tensorflow-probability==0.7.0 matplotlib==3.1.0 colorcet==2.0.1 brokenaxes==0.3.1 sacred==0.7.5 pymongo==3.8.0"
      ],
      "execution_count": 4,
      "outputs": [
        {
          "output_type": "stream",
          "text": [
            "Collecting tensorflow-probability==0.7.0\n",
            "\u001b[?25l  Downloading https://files.pythonhosted.org/packages/3e/3a/c10b6c22320531c774402ac7186d1b673374e2a9d12502cbc8d811e4601c/tensorflow_probability-0.7.0-py2.py3-none-any.whl (981kB)\n",
            "\u001b[K     |████████████████████████████████| 983kB 15.9MB/s \n",
            "\u001b[?25hCollecting matplotlib==3.1.0\n",
            "\u001b[?25l  Downloading https://files.pythonhosted.org/packages/da/83/d989ee20c78117c737ab40e0318ea221f1aed4e3f5a40b4f93541b369b93/matplotlib-3.1.0-cp36-cp36m-manylinux1_x86_64.whl (13.1MB)\n",
            "\u001b[K     |████████████████████████████████| 13.1MB 51.1MB/s \n",
            "\u001b[?25hCollecting colorcet==2.0.1\n",
            "\u001b[?25l  Downloading https://files.pythonhosted.org/packages/03/0c/e312b282b0ee08a34c7a5ce703eed988502149be8c90c3b3b79e97e37284/colorcet-2.0.1-py2.py3-none-any.whl (1.6MB)\n",
            "\u001b[K     |████████████████████████████████| 1.6MB 48.4MB/s \n",
            "\u001b[?25hCollecting brokenaxes==0.3.1\n",
            "  Downloading https://files.pythonhosted.org/packages/c5/41/0a8839699a98387d63d027909626920df7a7d6634d2a0a3bc1096626954c/brokenaxes-0.3.1.tar.gz\n",
            "Collecting sacred==0.7.5\n",
            "\u001b[?25l  Downloading https://files.pythonhosted.org/packages/6c/89/bd8a71138906b146eea621505236f8704a3eeab2b9668aad77691b93fdb8/sacred-0.7.5-py2.py3-none-any.whl (92kB)\n",
            "\u001b[K     |████████████████████████████████| 102kB 14.5MB/s \n",
            "\u001b[?25hCollecting pymongo==3.8.0\n",
            "\u001b[?25l  Downloading https://files.pythonhosted.org/packages/fb/4a/586826433281ca285f0201235fccf63cc29a30fa78bcd72b6a34e365972d/pymongo-3.8.0-cp36-cp36m-manylinux1_x86_64.whl (416kB)\n",
            "\u001b[K     |████████████████████████████████| 419kB 59.0MB/s \n",
            "\u001b[?25hRequirement already satisfied: cloudpickle>=0.6.1 in /usr/local/lib/python3.6/dist-packages (from tensorflow-probability==0.7.0) (1.3.0)\n",
            "Requirement already satisfied: six>=1.10.0 in /usr/local/lib/python3.6/dist-packages (from tensorflow-probability==0.7.0) (1.15.0)\n",
            "Requirement already satisfied: numpy>=1.13.3 in /usr/local/lib/python3.6/dist-packages (from tensorflow-probability==0.7.0) (1.19.5)\n",
            "Requirement already satisfied: decorator in /usr/local/lib/python3.6/dist-packages (from tensorflow-probability==0.7.0) (4.4.2)\n",
            "Requirement already satisfied: cycler>=0.10 in /usr/local/lib/python3.6/dist-packages (from matplotlib==3.1.0) (0.10.0)\n",
            "Requirement already satisfied: python-dateutil>=2.1 in /usr/local/lib/python3.6/dist-packages (from matplotlib==3.1.0) (2.8.1)\n",
            "Requirement already satisfied: pyparsing!=2.0.4,!=2.1.2,!=2.1.6,>=2.0.1 in /usr/local/lib/python3.6/dist-packages (from matplotlib==3.1.0) (2.4.7)\n",
            "Requirement already satisfied: kiwisolver>=1.0.1 in /usr/local/lib/python3.6/dist-packages (from matplotlib==3.1.0) (1.3.1)\n",
            "Requirement already satisfied: pyct>=0.4.4 in /usr/local/lib/python3.6/dist-packages (from colorcet==2.0.1) (0.4.8)\n",
            "Requirement already satisfied: param>=1.7.0 in /usr/local/lib/python3.6/dist-packages (from colorcet==2.0.1) (1.10.1)\n",
            "Collecting colorama>=0.4\n",
            "  Downloading https://files.pythonhosted.org/packages/44/98/5b86278fbbf250d239ae0ecb724f8572af1c91f4a11edf4d36a206189440/colorama-0.4.4-py2.py3-none-any.whl\n",
            "Requirement already satisfied: packaging>=18.0 in /usr/local/lib/python3.6/dist-packages (from sacred==0.7.5) (20.8)\n",
            "Requirement already satisfied: docopt<1.0,>=0.3 in /usr/local/lib/python3.6/dist-packages (from sacred==0.7.5) (0.6.2)\n",
            "Collecting jsonpickle<1.0,>=0.7.2\n",
            "\u001b[?25l  Downloading https://files.pythonhosted.org/packages/32/d5/2f47f03d3f64c31b0d7070b488274631d7567c36e81a9f744e6638bb0f0d/jsonpickle-0.9.6.tar.gz (67kB)\n",
            "\u001b[K     |████████████████████████████████| 71kB 12.3MB/s \n",
            "\u001b[?25hRequirement already satisfied: wrapt<2.0,>=1.0 in /usr/local/lib/python3.6/dist-packages (from sacred==0.7.5) (1.12.1)\n",
            "Collecting munch<3.0,>=2.0.2\n",
            "  Downloading https://files.pythonhosted.org/packages/cc/ab/85d8da5c9a45e072301beb37ad7f833cd344e04c817d97e0cc75681d248f/munch-2.5.0-py2.py3-none-any.whl\n",
            "Collecting py-cpuinfo>=4.0\n",
            "\u001b[?25l  Downloading https://files.pythonhosted.org/packages/f6/f5/8e6e85ce2e9f6e05040cf0d4e26f43a4718bcc4bce988b433276d4b1a5c1/py-cpuinfo-7.0.0.tar.gz (95kB)\n",
            "\u001b[K     |████████████████████████████████| 102kB 15.1MB/s \n",
            "\u001b[?25hBuilding wheels for collected packages: brokenaxes, jsonpickle, py-cpuinfo\n",
            "  Building wheel for brokenaxes (setup.py) ... \u001b[?25l\u001b[?25hdone\n",
            "  Created wheel for brokenaxes: filename=brokenaxes-0.3.1-cp36-none-any.whl size=4846 sha256=32c2aea78e3cbe62a70ead88f849dd4198f4c167249729510bdaf96ff6a4509c\n",
            "  Stored in directory: /root/.cache/pip/wheels/46/df/12/5b119337c272bbeda8483d0ada967f95f17e214fffc8f5134d\n",
            "  Building wheel for jsonpickle (setup.py) ... \u001b[?25l\u001b[?25hdone\n",
            "  Created wheel for jsonpickle: filename=jsonpickle-0.9.6-cp36-none-any.whl size=29464 sha256=46faf1e9f625128440d687080283a262150141761b5218cfe6e888fc352d0149\n",
            "  Stored in directory: /root/.cache/pip/wheels/07/8b/41/8ce98f4737a9ff61b1bf2673f2abfe66a6a43ad6e91d2c9736\n",
            "  Building wheel for py-cpuinfo (setup.py) ... \u001b[?25l\u001b[?25hdone\n",
            "  Created wheel for py-cpuinfo: filename=py_cpuinfo-7.0.0-cp36-none-any.whl size=20072 sha256=a1a3e0e110c3078fb2531bc16f4dc795d03d8390cde60a4cce6e5f9ba65c91a2\n",
            "  Stored in directory: /root/.cache/pip/wheels/f1/93/7b/127daf0c3a5a49feb2fecd468d508067c733fba5192f726ad1\n",
            "Successfully built brokenaxes jsonpickle py-cpuinfo\n",
            "\u001b[31mERROR: plotnine 0.6.0 has requirement matplotlib>=3.1.1, but you'll have matplotlib 3.1.0 which is incompatible.\u001b[0m\n",
            "\u001b[31mERROR: mizani 0.6.0 has requirement matplotlib>=3.1.1, but you'll have matplotlib 3.1.0 which is incompatible.\u001b[0m\n",
            "\u001b[31mERROR: albumentations 0.1.12 has requirement imgaug<0.2.7,>=0.2.5, but you'll have imgaug 0.2.9 which is incompatible.\u001b[0m\n",
            "Installing collected packages: tensorflow-probability, matplotlib, colorcet, brokenaxes, colorama, jsonpickle, munch, py-cpuinfo, sacred, pymongo\n",
            "  Found existing installation: tensorflow-probability 0.12.1\n",
            "    Uninstalling tensorflow-probability-0.12.1:\n",
            "      Successfully uninstalled tensorflow-probability-0.12.1\n",
            "  Found existing installation: matplotlib 3.2.2\n",
            "    Uninstalling matplotlib-3.2.2:\n",
            "      Successfully uninstalled matplotlib-3.2.2\n",
            "  Found existing installation: pymongo 3.11.2\n",
            "    Uninstalling pymongo-3.11.2:\n",
            "      Successfully uninstalled pymongo-3.11.2\n",
            "Successfully installed brokenaxes-0.3.1 colorama-0.4.4 colorcet-2.0.1 jsonpickle-0.9.6 matplotlib-3.1.0 munch-2.5.0 py-cpuinfo-7.0.0 pymongo-3.8.0 sacred-0.7.5 tensorflow-probability-0.7.0\n"
          ],
          "name": "stdout"
        },
        {
          "output_type": "display_data",
          "data": {
            "application/vnd.colab-display-data+json": {
              "pip_warning": {
                "packages": [
                  "matplotlib",
                  "mpl_toolkits"
                ]
              }
            }
          },
          "metadata": {
            "tags": []
          }
        }
      ]
    },
    {
      "cell_type": "code",
      "metadata": {
        "colab": {
          "base_uri": "https://localhost:8080/"
        },
        "id": "-AdTw2uvS1Xj",
        "outputId": "9dd32b49-5265-47fa-f9a1-7dcb6c8a920a"
      },
      "source": [
        "!sudo apt-get install cuda-9-0"
      ],
      "execution_count": 10,
      "outputs": [
        {
          "output_type": "stream",
          "text": [
            "Reading package lists... Done\n",
            "Building dependency tree       \n",
            "Reading state information... Done\n",
            "E: Unable to locate package cuda-9-0\n"
          ],
          "name": "stdout"
        }
      ]
    },
    {
      "cell_type": "code",
      "metadata": {
        "colab": {
          "base_uri": "https://localhost:8080/"
        },
        "id": "Iu6dO0zfV2MW",
        "outputId": "55ae94ec-393c-46d1-8228-1ff8982df884"
      },
      "source": [
        "!pip install tensorflow==1.15"
      ],
      "execution_count": 3,
      "outputs": [
        {
          "output_type": "stream",
          "text": [
            "Collecting tensorflow==1.15\n",
            "\u001b[?25l  Downloading https://files.pythonhosted.org/packages/3f/98/5a99af92fb911d7a88a0005ad55005f35b4c1ba8d75fba02df726cd936e6/tensorflow-1.15.0-cp36-cp36m-manylinux2010_x86_64.whl (412.3MB)\n",
            "\u001b[K     |████████████████████████████████| 412.3MB 36kB/s \n",
            "\u001b[?25hRequirement already satisfied: absl-py>=0.7.0 in /usr/local/lib/python3.6/dist-packages (from tensorflow==1.15) (0.10.0)\n",
            "Requirement already satisfied: wrapt>=1.11.1 in /usr/local/lib/python3.6/dist-packages (from tensorflow==1.15) (1.12.1)\n",
            "Requirement already satisfied: termcolor>=1.1.0 in /usr/local/lib/python3.6/dist-packages (from tensorflow==1.15) (1.1.0)\n",
            "Requirement already satisfied: google-pasta>=0.1.6 in /usr/local/lib/python3.6/dist-packages (from tensorflow==1.15) (0.2.0)\n",
            "Collecting tensorboard<1.16.0,>=1.15.0\n",
            "\u001b[?25l  Downloading https://files.pythonhosted.org/packages/1e/e9/d3d747a97f7188f48aa5eda486907f3b345cd409f0a0850468ba867db246/tensorboard-1.15.0-py3-none-any.whl (3.8MB)\n",
            "\u001b[K     |████████████████████████████████| 3.8MB 46.5MB/s \n",
            "\u001b[?25hRequirement already satisfied: numpy<2.0,>=1.16.0 in /usr/local/lib/python3.6/dist-packages (from tensorflow==1.15) (1.19.5)\n",
            "Requirement already satisfied: wheel>=0.26 in /usr/local/lib/python3.6/dist-packages (from tensorflow==1.15) (0.36.2)\n",
            "Collecting gast==0.2.2\n",
            "  Downloading https://files.pythonhosted.org/packages/4e/35/11749bf99b2d4e3cceb4d55ca22590b0d7c2c62b9de38ac4a4a7f4687421/gast-0.2.2.tar.gz\n",
            "Requirement already satisfied: astor>=0.6.0 in /usr/local/lib/python3.6/dist-packages (from tensorflow==1.15) (0.8.1)\n",
            "Requirement already satisfied: grpcio>=1.8.6 in /usr/local/lib/python3.6/dist-packages (from tensorflow==1.15) (1.32.0)\n",
            "Collecting tensorflow-estimator==1.15.1\n",
            "\u001b[?25l  Downloading https://files.pythonhosted.org/packages/de/62/2ee9cd74c9fa2fa450877847ba560b260f5d0fb70ee0595203082dafcc9d/tensorflow_estimator-1.15.1-py2.py3-none-any.whl (503kB)\n",
            "\u001b[K     |████████████████████████████████| 512kB 50.8MB/s \n",
            "\u001b[?25hRequirement already satisfied: opt-einsum>=2.3.2 in /usr/local/lib/python3.6/dist-packages (from tensorflow==1.15) (3.3.0)\n",
            "Collecting keras-applications>=1.0.8\n",
            "\u001b[?25l  Downloading https://files.pythonhosted.org/packages/71/e3/19762fdfc62877ae9102edf6342d71b28fbfd9dea3d2f96a882ce099b03f/Keras_Applications-1.0.8-py3-none-any.whl (50kB)\n",
            "\u001b[K     |████████████████████████████████| 51kB 9.6MB/s \n",
            "\u001b[?25hRequirement already satisfied: six>=1.10.0 in /usr/local/lib/python3.6/dist-packages (from tensorflow==1.15) (1.15.0)\n",
            "Requirement already satisfied: keras-preprocessing>=1.0.5 in /usr/local/lib/python3.6/dist-packages (from tensorflow==1.15) (1.1.2)\n",
            "Requirement already satisfied: protobuf>=3.6.1 in /usr/local/lib/python3.6/dist-packages (from tensorflow==1.15) (3.12.4)\n",
            "Requirement already satisfied: werkzeug>=0.11.15 in /usr/local/lib/python3.6/dist-packages (from tensorboard<1.16.0,>=1.15.0->tensorflow==1.15) (1.0.1)\n",
            "Requirement already satisfied: setuptools>=41.0.0 in /usr/local/lib/python3.6/dist-packages (from tensorboard<1.16.0,>=1.15.0->tensorflow==1.15) (51.1.1)\n",
            "Requirement already satisfied: markdown>=2.6.8 in /usr/local/lib/python3.6/dist-packages (from tensorboard<1.16.0,>=1.15.0->tensorflow==1.15) (3.3.3)\n",
            "Requirement already satisfied: h5py in /usr/local/lib/python3.6/dist-packages (from keras-applications>=1.0.8->tensorflow==1.15) (2.10.0)\n",
            "Requirement already satisfied: importlib-metadata; python_version < \"3.8\" in /usr/local/lib/python3.6/dist-packages (from markdown>=2.6.8->tensorboard<1.16.0,>=1.15.0->tensorflow==1.15) (3.3.0)\n",
            "Requirement already satisfied: typing-extensions>=3.6.4; python_version < \"3.8\" in /usr/local/lib/python3.6/dist-packages (from importlib-metadata; python_version < \"3.8\"->markdown>=2.6.8->tensorboard<1.16.0,>=1.15.0->tensorflow==1.15) (3.7.4.3)\n",
            "Requirement already satisfied: zipp>=0.5 in /usr/local/lib/python3.6/dist-packages (from importlib-metadata; python_version < \"3.8\"->markdown>=2.6.8->tensorboard<1.16.0,>=1.15.0->tensorflow==1.15) (3.4.0)\n",
            "Building wheels for collected packages: gast\n",
            "  Building wheel for gast (setup.py) ... \u001b[?25l\u001b[?25hdone\n",
            "  Created wheel for gast: filename=gast-0.2.2-cp36-none-any.whl size=7540 sha256=7d7d037f78e75ee5699b2a8cee850a970ba04262d13fb097e188c94291c70332\n",
            "  Stored in directory: /root/.cache/pip/wheels/5c/2e/7e/a1d4d4fcebe6c381f378ce7743a3ced3699feb89bcfbdadadd\n",
            "Successfully built gast\n",
            "\u001b[31mERROR: tensorflow-probability 0.12.1 has requirement gast>=0.3.2, but you'll have gast 0.2.2 which is incompatible.\u001b[0m\n",
            "Installing collected packages: tensorboard, gast, tensorflow-estimator, keras-applications, tensorflow\n",
            "  Found existing installation: tensorboard 2.4.0\n",
            "    Uninstalling tensorboard-2.4.0:\n",
            "      Successfully uninstalled tensorboard-2.4.0\n",
            "  Found existing installation: gast 0.3.3\n",
            "    Uninstalling gast-0.3.3:\n",
            "      Successfully uninstalled gast-0.3.3\n",
            "  Found existing installation: tensorflow-estimator 2.4.0\n",
            "    Uninstalling tensorflow-estimator-2.4.0:\n",
            "      Successfully uninstalled tensorflow-estimator-2.4.0\n",
            "  Found existing installation: tensorflow 2.4.0\n",
            "    Uninstalling tensorflow-2.4.0:\n",
            "      Successfully uninstalled tensorflow-2.4.0\n",
            "Successfully installed gast-0.2.2 keras-applications-1.0.8 tensorboard-1.15.0 tensorflow-1.15.0 tensorflow-estimator-1.15.1\n"
          ],
          "name": "stdout"
        }
      ]
    },
    {
      "cell_type": "code",
      "metadata": {
        "id": "p60mt1fSeDIA"
      },
      "source": [
        "https://github.com/biomedia-mira/stochastic_segmentation_network **** Données Cerveaux ****\n",
        "To download the data, go to this page and follow the instructions provided by the challenge's organisers. Run the following script to preprocess the data (input-dir should contain folders HGG and LGG inside):\n",
        "# python evaluation/preprocessing.py --input-dir <path-to-input-dir> --output-dir <path-to-output-dir>\n",
        "\n",
        "https://github.com/abhinavsagar/uqvi **** DONNEE CERVAUX ****\n",
        "Uncertainty Quantification using Variational Inference for Biomedical Image Segmentation\n",
        "The dataset can be downloaded from here.\n",
        "\n",
        "https://github.com/sandialabs/bcnn ****** NE DONNE PAS SES DONNEES Mais liobre utilisation ****\n",
        "\n",
        "#### Cellule ####  Ihab exploite jeu de données cellules / Kaggle \n",
        "https://www.kaggle.com/rexhaif/morphological-postprocessing-on-unet-lb-0-429 \n",
        "\n",
        "# Preprocessing the dataset Kaggle \n",
        "https://www.kaggle.com/dingli/keras-u-net-for-nuclei-segmentation \n",
        "\n",
        "https://github.com/xiaoketongxue/AI-News/blob/master/CV2019.md \n",
        "\n",
        "# sudo apt-get install cuda-9-0"
      ],
      "execution_count": null,
      "outputs": []
    },
    {
      "cell_type": "markdown",
      "metadata": {
        "id": "8G4Ca3R2erjN"
      },
      "source": [
        "https://github.com/biomedia-mira/stochastic_segmentation_network\n",
        "To download the data, go to this page and follow the instructions provided by the challenge's organisers. Run the following script to preprocess the data (input-dir should contain folders HGG and LGG inside):\n",
        "# python evaluation/preprocessing.py --input-dir <path-to-input-dir> --output-dir <path-to-output-dir>\n",
        "\n",
        "https://github.com/abhinavsagar/uqvi \n",
        "Uncertainty Quantification using Variational Inference for Biomedical Image Segmentation\n",
        "The dataset can be downloaded from here."
      ]
    }
  ]
}